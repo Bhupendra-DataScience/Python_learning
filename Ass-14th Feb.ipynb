{
 "cells": [
  {
   "cell_type": "markdown",
   "id": "d62487dd-2289-4145-9f5c-9f63658658db",
   "metadata": {},
   "source": [
    "Question 1- What is multithreading in python? why is it used? Name the module used to handle threads in python"
   ]
  },
  {
   "cell_type": "markdown",
   "id": "63ab0f36-89bc-47e1-893c-22d4d2cb751e",
   "metadata": {},
   "source": [
    "Answer- Multithreading in Python is a way of writing programs that can perform multiple tasks or execute multiple code paths concurrently, using multiple threads of execution within the same process. A thread is a lightweight process that shares the same memory space as other threads within the same process, and can be scheduled to run independently by the operating system.\n",
    "\n",
    "Multithreading is used in Python to improve the performance of programs that can benefit from parallelism, such as I/O-bound tasks or CPU-bound tasks that can be parallelized. By running multiple threads concurrently, Python programs can take advantage of modern multi-core processors to perform tasks more quickly and efficiently.\n",
    "\n",
    "The threading module is used to handle threads in Python. It provides a way to create and manage threads, as well as synchronization primitives such as locks, semaphores, and condition variables to ensure safe access to shared resources. The threading module is part of Python's standard library, so it's available for use in any Python program without the need for additional installation."
   ]
  },
  {
   "cell_type": "markdown",
   "id": "ba21b19c-f88e-4684-a7dd-52cd5e3e6896",
   "metadata": {},
   "source": [
    "   "
   ]
  },
  {
   "cell_type": "markdown",
   "id": "0e828fa8-655d-431c-95d2-5e2172864c30",
   "metadata": {},
   "source": [
    "   "
   ]
  },
  {
   "cell_type": "markdown",
   "id": "46f205e4-f235-495c-813e-364695236079",
   "metadata": {},
   "source": [
    "   "
   ]
  },
  {
   "cell_type": "markdown",
   "id": "7ed6eb01-ef89-4449-ba9b-7573f70b619d",
   "metadata": {},
   "source": [
    "Question 2- Why threading module used? Write the use of the following functions\n",
    "- activeCount\n",
    "- currentThread\n",
    "- enumerate"
   ]
  },
  {
   "cell_type": "markdown",
   "id": "87097f6a-419a-4239-a04b-cf9810970758",
   "metadata": {},
   "source": [
    "Answer- The threading module in Python is used to create, manage and control threads of execution within a Python program. It provides a simple and efficient way to implement concurrent programming in Python, allowing multiple tasks to be executed simultaneously within the same process. Here are the uses of the following functions in the threading module:\n",
    "\n",
    "1. activeCount(): This function returns the number of Thread objects that are currently active in the current process. An active thread is one that has been started and has not yet finished or been terminated.\n",
    "\n",
    "2. currentThread(): This function returns a reference to the current Thread object that is executing the Python code. This can be useful for accessing information about the current thread, such as its name, ID, or other attributes.\n",
    "\n",
    "3. enumerate(): This function returns a list of all Thread objects that are currently active in the current process. Each element of the list is a reference to a Thread object, and the list can be used to iterate over all active threads and perform operations on them, such as joining or terminating them.\n",
    "\n",
    "In summary, the activeCount() function is used to get the number of active threads, the currentThread() function is used to get a reference to the current thread, and the enumerate() function is used to get a list of all active threads in the current process."
   ]
  },
  {
   "cell_type": "markdown",
   "id": "7419703a-0ec8-434a-9151-ef0b71da04ab",
   "metadata": {},
   "source": [
    " "
   ]
  },
  {
   "cell_type": "markdown",
   "id": "4aef4add-8e13-49a7-8b04-c986d988cbe8",
   "metadata": {},
   "source": [
    "   "
   ]
  },
  {
   "cell_type": "markdown",
   "id": "2f131011-401f-482a-b6fb-ba5586372b3b",
   "metadata": {},
   "source": [
    " Question 3- Explain the following functions\n",
    "- run()\n",
    "- start()\n",
    "- join ()\n",
    "- isAlive()"
   ]
  },
  {
   "cell_type": "markdown",
   "id": "5b49a5e9-ee3d-42e0-b95a-559d0a11ca9d",
   "metadata": {},
   "source": [
    "Answer- These are functions in the Thread class provided by the threading module in Python.\n",
    "\n",
    "1. run(): This method is the entry point for a new thread of execution. When a new thread is started using the start() method, the run() method is called in the new thread to begin executing the thread's code. You can override the run() method in a subclass to define the code that the thread should execute.\n",
    "\n",
    "2. start(): This method starts a new thread of execution by calling the run() method in a new thread. When you call the start() method on a Thread object, a new thread is created and the run() method is called in the new thread. You can call the start() method only once on a Thread object.\n",
    "\n",
    "3. join(): This method waits for a thread to complete its execution. When you call the join() method on a Thread object, the calling thread will wait until the specified thread finishes executing. This can be useful for coordinating the execution of multiple threads, or for ensuring that a particular thread has completed its work before continuing with the rest of the program.\n",
    "\n",
    "4. isAlive(): This method returns a boolean value indicating whether a thread is currently executing. When you call the isAlive() method on a Thread object, it will return True if the thread is currently executing, or False otherwise. This can be useful for checking whether a thread has completed its work before joining it or performing other operations on it.\n",
    "\n",
    "In summary, run() is the method that defines the code executed by the thread, start() creates a new thread and starts it running, join() waits for a thread to finish executing, and isAlive() checks whether a thread is currently executing."
   ]
  },
  {
   "cell_type": "markdown",
   "id": "4bf54d4d-c61d-4ba5-9d41-2c640b40e921",
   "metadata": {},
   "source": [
    " "
   ]
  },
  {
   "cell_type": "markdown",
   "id": "f890c5d5-17a1-4d5c-9e97-a848289c605c",
   "metadata": {},
   "source": [
    " "
   ]
  },
  {
   "cell_type": "markdown",
   "id": "f89f6b91-29b0-4ad7-9698-ca3ee308e29c",
   "metadata": {},
   "source": [
    "Question 4- Write a python program to create two threads. Thread one must print the list of squares and thread\n",
    "two must print the list of cubes"
   ]
  },
  {
   "cell_type": "markdown",
   "id": "921064c5-a686-414f-baae-4eb6e3e2de65",
   "metadata": {},
   "source": [
    "Answer- "
   ]
  },
  {
   "cell_type": "code",
   "execution_count": 6,
   "id": "b2d64175-27d0-4a8c-a4a5-eeae5070e45e",
   "metadata": {},
   "outputs": [
    {
     "name": "stdout",
     "output_type": "stream",
     "text": [
      "1 squared is 1\n",
      "2 squared is 4\n",
      "3 squared is 9\n",
      "4 squared is 16\n",
      "5 squared is 25\n",
      "6 squared is 36\n",
      "7 squared is 49\n",
      "8 squared is 64\n",
      "9 squared is 81\n",
      "10 squared is 100\n",
      "1 cubed is 1\n",
      "2 cubed is 8\n",
      "3 cubed is 27\n",
      "4 cubed is 64\n",
      "5 cubed is 125\n",
      "6 cubed is 216\n",
      "7 cubed is 343\n",
      "8 cubed is 512\n",
      "9 cubed is 729\n",
      "10 cubed is 1000\n"
     ]
    }
   ],
   "source": [
    "import threading\n",
    "\n",
    "def print_squares():\n",
    "    for i in range(1, 11):\n",
    "        print(f\"{i} squared is {i**2}\")\n",
    "\n",
    "def print_cubes():\n",
    "    for i in range(1, 11):\n",
    "        print(f\"{i} cubed is {i**3}\")\n",
    "\n",
    "t1 = threading.Thread(target=print_squares)\n",
    "t2 = threading.Thread(target=print_cubes)\n",
    "t1.start()\n",
    "t2.start()\n"
   ]
  },
  {
   "cell_type": "markdown",
   "id": "2dc45043-bf78-46a7-ae4e-4e145a483d2b",
   "metadata": {},
   "source": [
    " "
   ]
  },
  {
   "cell_type": "markdown",
   "id": "071650cd-929b-45a1-88db-b1891d458378",
   "metadata": {},
   "source": [
    " "
   ]
  },
  {
   "cell_type": "markdown",
   "id": "73464e29-769c-4be1-9ccd-83cffcf57d22",
   "metadata": {},
   "source": [
    "Question 5- State advantages and disadvantages of multithreading?"
   ]
  },
  {
   "cell_type": "markdown",
   "id": "3373ed4a-9fff-4bec-9649-e1b7719b92bd",
   "metadata": {},
   "source": [
    "Answer- Advantages of multithreading:\n",
    "\n",
    "1. Improved performance: Multithreading can improve the performance of an application by allowing multiple tasks to be executed simultaneously. This can help to reduce the overall execution time of a program, especially for computationally intensive or I/O-bound tasks.\n",
    "\n",
    "2. Responsiveness: Multithreading can make an application more responsive to user input by allowing tasks to run in the background while the application continues to respond to user events.\n",
    "\n",
    "3. Better resource utilization: Multithreading can allow multiple threads to share the same resources such as memory, CPU, and I/O devices. This can help to improve resource utilization and avoid resource wastage.\n",
    "\n",
    "4. Modular code: Multithreading can help to break down complex tasks into smaller, more manageable units, which can make the code easier to read, understand, and maintain.\n",
    "\n",
    "Disadvantages of multithreading:\n",
    "\n",
    "1. Complexity: Multithreaded programs can be more complex than single-threaded programs, which can make them more difficult to write, test, and debug. Multithreading can introduce issues such as race conditions, deadlocks, and synchronization problems.\n",
    "\n",
    "2. Overhead: Multithreading can introduce overhead due to the cost of creating, starting, and synchronizing threads. This overhead can reduce the overall performance of a program, especially for small or simple tasks.\n",
    "\n",
    "3. Resource contention: Multithreading can introduce resource contention issues, where multiple threads compete for the same resources such as memory, CPU, or I/O devices. This can lead to performance degradation, bottlenecks, and other issues.\n",
    "\n",
    "4. Debugging and testing: Multithreaded programs can be more difficult to debug and test than single-threaded programs. Issues such as race conditions and synchronization problems can be difficult to reproduce and diagnose, making it harder to ensure the correctness and reliability of a multithreaded program."
   ]
  },
  {
   "cell_type": "markdown",
   "id": "93dc3587-c536-4c57-bbb7-2a9a7db6bd49",
   "metadata": {},
   "source": [
    " "
   ]
  },
  {
   "cell_type": "markdown",
   "id": "505a3c08-fa92-4749-8d7f-cf543ced2319",
   "metadata": {},
   "source": [
    " "
   ]
  },
  {
   "cell_type": "markdown",
   "id": "71877a9e-805c-4a81-8f06-a630254ad8f4",
   "metadata": {},
   "source": [
    "Question 6- Explain deadlocks and race conditions."
   ]
  },
  {
   "cell_type": "markdown",
   "id": "1b0af85c-c056-4931-ac22-0e8d3003de6c",
   "metadata": {},
   "source": [
    "Answer- Deadlocks and race conditions are two common problems that can occur in multithreaded programs.\n",
    "\n",
    "A deadlock occurs when two or more threads are waiting for each other to release resources that they need to continue executing. In other words, each thread is waiting for a resource that is held by another thread, and neither thread can make progress. This can lead to a situation where the program becomes unresponsive and can result in a deadlock.\n",
    "\n",
    "A race condition occurs when two or more threads access the same shared resource simultaneously, and the outcome of the program depends on the order in which the threads execute. In other words, the behavior of the program is \"racing\" against the execution of the threads, and the outcome of the program can be unpredictable or incorrect. Race conditions can occur when one thread modifies a shared resource while another thread is reading or writing to it, or when multiple threads modify the same resource simultaneously.\n",
    "\n",
    "Both deadlocks and race conditions can be difficult to detect and diagnose, as they may not always occur consistently or predictably. To avoid these issues, multithreaded programs need to implement proper synchronization mechanisms, such as locks, semaphores, or monitors, to ensure that only one thread can access a shared resource at a time. Additionally, careful design and testing of multithreaded programs can help to minimize the occurrence of deadlocks and race conditions"
   ]
  },
  {
   "cell_type": "code",
   "execution_count": null,
   "id": "32c1a4de-0fa8-43b3-a83d-a8c644ae6aa2",
   "metadata": {},
   "outputs": [],
   "source": []
  }
 ],
 "metadata": {
  "kernelspec": {
   "display_name": "Python 3 (ipykernel)",
   "language": "python",
   "name": "python3"
  },
  "language_info": {
   "codemirror_mode": {
    "name": "ipython",
    "version": 3
   },
   "file_extension": ".py",
   "mimetype": "text/x-python",
   "name": "python",
   "nbconvert_exporter": "python",
   "pygments_lexer": "ipython3",
   "version": "3.10.8"
  }
 },
 "nbformat": 4,
 "nbformat_minor": 5
}
