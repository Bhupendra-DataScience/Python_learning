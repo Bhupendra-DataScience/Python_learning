{
 "cells": [
  {
   "cell_type": "markdown",
   "id": "71031c43-4a4b-481e-9425-f08d5a8148a1",
   "metadata": {},
   "source": [
    "Question 1- What are the characteristics of the tuples? Is tuple immutable?"
   ]
  },
  {
   "cell_type": "markdown",
   "id": "aaa11685-2ce1-4473-a86d-ffa8309a6820",
   "metadata": {},
   "source": [
    "Answer-  Tuple is a collection of elements, separated by commas and enclosed in parentheses (). Tuples are similar to lists, but with a few key differences:\n",
    "\n",
    "- Tuples are immutable: Once a tuple is created, you cannot change its contents. This means that you cannot add, remove, or modify elements within a tuple.\n",
    "\n",
    "- Tuples can contain any type of element: Tuples can contain elements of different types, including numbers, strings, booleans, and even other tuples.\n",
    "\n",
    "- Tuples can be accessed using indexing: You can access individual elements within a tuple using square brackets [] and an index value. The index starts from 0 for the first element, and negative indexing is also supported, where -1 refers to the last element in the tuple.\n",
    "\n",
    "- Tuples can be sliced: You can extract a subset of a tuple using slicing, which returns a new tuple containing the selected elements.\n",
    "\n",
    "- Tuples are ordered: The elements within a tuple are ordered and maintain their order when accessed.\n",
    "\n",
    "- Tuples can be used as dictionary keys: Because tuples are immutable and hashable, they can be used as keys in dictionaries.\n",
    "\n",
    "Overall, tuples are similar to lists in many ways, but their immutability and other characteristics make them useful for certain tasks, such as creating a fixed set of values that will not change"
   ]
  },
  {
   "cell_type": "code",
   "execution_count": null,
   "id": "6e413792-546a-4b96-84f8-2d2d37e7b2ac",
   "metadata": {},
   "outputs": [],
   "source": []
  },
  {
   "cell_type": "code",
   "execution_count": null,
   "id": "9c1fee66-26e8-42e9-a147-ab1cf3136211",
   "metadata": {},
   "outputs": [],
   "source": []
  },
  {
   "cell_type": "markdown",
   "id": "2b4c507e-73e8-490b-89d3-28faa164b4e5",
   "metadata": {},
   "source": [
    "Question 2- What are the two tuple methods in python? Give an example of each method. Give a reason why\n",
    "tuples have only two in-built methods as compared to Lists."
   ]
  },
  {
   "cell_type": "markdown",
   "id": "662013f3-ea30-41b5-895b-9b14691a0c50",
   "metadata": {},
   "source": [
    "Answer- Tuples have two built-in methods:\n",
    "\n",
    "1- count(): This method returns the number of times a specified element appears in the tuple. The syntax for this method is tuple_name.count(element).\n",
    "Example: Suppose we have a tuple named my_tuple containing the elements (1, 2, 2, 3, 3, 3). To count the number of times the element 3 appears in the tuple, we can use the following code: my_tuple.count(3). This will return the value 3, since the element 3 appears three times in the tuple.\n",
    "\n",
    "2- index(): This method returns the index of the first occurrence of a specified element in the tuple. The syntax for this method is tuple_name.index(element).\n",
    "Example: Continuing with the same my_tuple from the previous example, if we want to find the index of the first occurrence of the element 2, we can use the following code: my_tuple.index(2). This will return the value 1, since the element 2 is located at index 1 in the tuple.\n",
    "\n",
    "Tuples have only two built-in methods, as compared to lists, because tuples are designed to be immutable, whereas lists are mutable. Since tuples cannot be modified once they are created, they do not need as many methods for adding, removing, or modifying elements as lists do. The limited number of methods for tuples also helps to keep their implementation simple and efficient."
   ]
  },
  {
   "cell_type": "code",
   "execution_count": 1,
   "id": "a81f8123-db8b-462a-b0d6-0e6a74ff94ee",
   "metadata": {},
   "outputs": [
    {
     "data": {
      "text/plain": [
       "tuple"
      ]
     },
     "execution_count": 1,
     "metadata": {},
     "output_type": "execute_result"
    }
   ],
   "source": [
    "ty=('a',3,3,4,5,8)\n",
    "type(ty)"
   ]
  },
  {
   "cell_type": "code",
   "execution_count": 2,
   "id": "649250d9-c254-4520-9657-eafd85f39c06",
   "metadata": {},
   "outputs": [
    {
     "data": {
      "text/plain": [
       "2"
      ]
     },
     "execution_count": 2,
     "metadata": {},
     "output_type": "execute_result"
    }
   ],
   "source": [
    "ty.count(3)"
   ]
  },
  {
   "cell_type": "code",
   "execution_count": 3,
   "id": "850749d2-d324-47c4-aae9-8a9375cf45c7",
   "metadata": {},
   "outputs": [
    {
     "data": {
      "text/plain": [
       "1"
      ]
     },
     "execution_count": 3,
     "metadata": {},
     "output_type": "execute_result"
    }
   ],
   "source": [
    "ty.index(3)"
   ]
  },
  {
   "cell_type": "code",
   "execution_count": null,
   "id": "e4cdadca-d37c-4aeb-a010-79df3d2f8d9e",
   "metadata": {},
   "outputs": [],
   "source": []
  },
  {
   "cell_type": "code",
   "execution_count": null,
   "id": "b5c4ce57-c3dc-4ff2-b0a1-bc5e1576b6a5",
   "metadata": {},
   "outputs": [],
   "source": []
  },
  {
   "cell_type": "markdown",
   "id": "18bddfa6-25c7-4d24-93b6-ce9c2f597b03",
   "metadata": {},
   "source": [
    "Question 3- Which collection datatypes in python do not allow duplicate items? Write a code using a set to remove\n",
    "duplicates from the given list.\n",
    "List = [1, 1, 1, 2, 1, 3, 1, 4, 2, 1, 2, 2, 2, 3, 2, 4, 3, 1, 3, 2, 3, 3, 3, 4, 4, 1, 4, 2, 4, 3, 4, 4]"
   ]
  },
  {
   "cell_type": "markdown",
   "id": "7548c440-6e92-42f0-9009-a63ffe043382",
   "metadata": {},
   "source": [
    "Answer- sets are the collection data type that do not allow duplicate items. Sets are an unordered collection of unique elements.\n",
    "\n",
    "Here is an example code using a set to remove duplicates from the given list:"
   ]
  },
  {
   "cell_type": "code",
   "execution_count": 4,
   "id": "9fdb4ffa-e642-491b-b34a-61b7dd484d62",
   "metadata": {},
   "outputs": [],
   "source": [
    "lst = [1, 1, 1, 2, 1, 3, 1, 4, 2, 1, 2, 2, 2, 3, 2, 4, 3, 1, 3, 2, 3, 3, 3, 4, 4, 1, 4, 2, 4, 3, 4, 4]"
   ]
  },
  {
   "cell_type": "code",
   "execution_count": 19,
   "id": "76a81f14-f22c-4b1e-b721-6f245b081977",
   "metadata": {},
   "outputs": [],
   "source": [
    "st=set(lst)"
   ]
  },
  {
   "cell_type": "code",
   "execution_count": 21,
   "id": "c36eebb6-8f60-4234-8485-07acab184c40",
   "metadata": {},
   "outputs": [
    {
     "data": {
      "text/plain": [
       "{1, 2, 3, 4}"
      ]
     },
     "execution_count": 21,
     "metadata": {},
     "output_type": "execute_result"
    }
   ],
   "source": [
    "st"
   ]
  },
  {
   "cell_type": "code",
   "execution_count": null,
   "id": "dc298abb-f072-428b-a9cf-4fe000a94969",
   "metadata": {},
   "outputs": [],
   "source": []
  },
  {
   "cell_type": "code",
   "execution_count": null,
   "id": "23f33a27-9411-4b99-961e-1ad977ab8fcd",
   "metadata": {},
   "outputs": [],
   "source": []
  },
  {
   "cell_type": "markdown",
   "id": "7e22646d-9a6a-49d3-a550-cad05a0b3b0e",
   "metadata": {},
   "source": [
    "Question 4- Explain the difference between the union() and update() methods for a set. Give an example of\n",
    "each method."
   ]
  },
  {
   "cell_type": "markdown",
   "id": "20486fbd-6b15-41c5-a826-fb535b2a575f",
   "metadata": {},
   "source": [
    "Answer- The union() and update() methods are used to add elements from one or more sets to an existing set in Python. The main difference between the two methods is that union() returns a new set containing all the elements from the original set and the set(s) passed as an argument, while update() modifies the original set by adding all the elements from the set(s) passed as an argument.\n",
    "\n",
    "Here's an example of each method:"
   ]
  },
  {
   "cell_type": "code",
   "execution_count": 27,
   "id": "11c5d53e-913f-4b58-ae48-c8b2f4c60b11",
   "metadata": {},
   "outputs": [
    {
     "name": "stdout",
     "output_type": "stream",
     "text": [
      "{1, 2, 3}\n",
      "{1, 2, 3, 4, 5}\n"
     ]
    }
   ],
   "source": [
    "# Example of union() method\n",
    "set1 = {1, 2, 3}\n",
    "set2 = {3, 4, 5}\n",
    "set3 = set1.union(set2)\n",
    "print(set1)\n",
    "print(set3)\n",
    "# Output\n",
    "#set1 : {1, 2, 3}, it is not updated after union operations \n",
    "\n",
    "\n",
    "\n"
   ]
  },
  {
   "cell_type": "code",
   "execution_count": 28,
   "id": "02d85f9c-a60e-4e3c-b5dc-109d303f5a4d",
   "metadata": {},
   "outputs": [
    {
     "name": "stdout",
     "output_type": "stream",
     "text": [
      "{1, 2, 3, 4, 5}\n"
     ]
    }
   ],
   "source": [
    "# Example of update() method\n",
    "set1 = {1, 2, 3}\n",
    "set2 = {3, 4, 5}\n",
    "set1.update(set2)\n",
    "print(set1)\n",
    "# Output: {1, 2, 3, 4, 5}"
   ]
  },
  {
   "cell_type": "code",
   "execution_count": null,
   "id": "12f61423-69ad-4fa2-8fa8-d90a000e2428",
   "metadata": {},
   "outputs": [],
   "source": []
  },
  {
   "cell_type": "code",
   "execution_count": null,
   "id": "d4aaa59b-6081-49eb-8da6-7371e8258cec",
   "metadata": {},
   "outputs": [],
   "source": []
  },
  {
   "cell_type": "markdown",
   "id": "6cfb5787-9f47-4691-b1e7-2b5f84fa57dc",
   "metadata": {},
   "source": [
    "Question 5. What is a dictionary? Give an example. Also, state whether a dictionary is ordered or unordered."
   ]
  },
  {
   "cell_type": "markdown",
   "id": "fd836b54-2063-4025-9f64-b6da91945473",
   "metadata": {},
   "source": [
    "Answer-  A dictionary is a collection of key-value pairs that allows you to store and access data by a key rather than by an index. A dictionary is created by enclosing a comma-separated list of key-value pairs within curly braces {}.\n",
    "\n",
    "Here's an example of a dictionary:"
   ]
  },
  {
   "cell_type": "code",
   "execution_count": 29,
   "id": "cfb8cae9-eee1-4cdc-83ec-718f0b0320b9",
   "metadata": {},
   "outputs": [
    {
     "name": "stdout",
     "output_type": "stream",
     "text": [
      "{'name': 'John', 'age': 30, 'city': 'New York'}\n"
     ]
    }
   ],
   "source": [
    "# Example of a dictionary\n",
    "person = {'name': 'John', 'age': 30, 'city': 'New York'}\n",
    "print(person)\n",
    "# Output: {'name': 'John', 'age': 30, 'city': 'New York'}\n"
   ]
  },
  {
   "cell_type": "markdown",
   "id": "d2a1ad27-a11e-428a-ba1e-285ad04a37ad",
   "metadata": {},
   "source": [
    "As of Python version 3.7, dictionaries are ordered. In Python 3.6 and earlier, dictionaries are unordered.\n",
    "\n",
    "When we say that dictionaries are ordered, it means that the items have a defined order, and that order will not change.\n",
    "\n",
    "Unordered means that the items does not have a defined order, you cannot refer to an item by using an index."
   ]
  },
  {
   "cell_type": "markdown",
   "id": "de146c00-ec5d-4d91-b242-2253866fbea8",
   "metadata": {},
   "source": [
    " "
   ]
  },
  {
   "cell_type": "markdown",
   "id": "a057daea-a617-47b9-8c89-c7788ec3ea78",
   "metadata": {},
   "source": [
    " "
   ]
  },
  {
   "cell_type": "code",
   "execution_count": null,
   "id": "3b363307-4aaa-449f-aecf-0af73a11e628",
   "metadata": {},
   "outputs": [],
   "source": []
  },
  {
   "cell_type": "markdown",
   "id": "5b98b91c-130c-4727-963d-cc17977f3fd3",
   "metadata": {},
   "source": [
    "Question 6. Can we create a nested dictionary? If so, please give an example by creating a simple one-level\n",
    "nested dictionary."
   ]
  },
  {
   "cell_type": "markdown",
   "id": "5ec80aa6-ff5a-4a80-b8e0-245072a6102c",
   "metadata": {},
   "source": [
    "Answer- Yes, we can create a nested dictionary in Python. A nested dictionary is a dictionary that contains another dictionary as its value. To create a nested dictionary, we simply need to assign a dictionary to a key in another dictionary.\n",
    "\n",
    "Here's an example of a simple one-level nested dictionary:"
   ]
  },
  {
   "cell_type": "code",
   "execution_count": 30,
   "id": "52511aec-c0f9-40c6-b44b-e80116c9b7fb",
   "metadata": {},
   "outputs": [
    {
     "name": "stdout",
     "output_type": "stream",
     "text": [
      "{'name': 'John', 'age': 30, 'address': {'street': 'Main St', 'city': 'New York', 'zip': '10001'}}\n"
     ]
    }
   ],
   "source": [
    "# Example of a nested dictionary\n",
    "person = {'name': 'John', 'age': 30, 'address': {'street': 'Main St', 'city': 'New York', 'zip': '10001'}}\n",
    "print(person)\n",
    "# Output: {'name': 'John', 'age': 30, 'address': {'street': 'Main St', 'city': 'New York', 'zip': '10001'}}\n"
   ]
  },
  {
   "cell_type": "code",
   "execution_count": 33,
   "id": "ed8e27a6-284e-4c3d-8f84-93ed0b13026a",
   "metadata": {},
   "outputs": [
    {
     "data": {
      "text/plain": [
       "'Main St'"
      ]
     },
     "execution_count": 33,
     "metadata": {},
     "output_type": "execute_result"
    }
   ],
   "source": [
    "person['address']['street']"
   ]
  },
  {
   "cell_type": "markdown",
   "id": "a19bb868-d32c-4e7c-b5ad-b7efade0c68d",
   "metadata": {},
   "source": [
    " "
   ]
  },
  {
   "cell_type": "markdown",
   "id": "7fbd3ab0-74bd-45f3-a96b-b4af33585aa8",
   "metadata": {},
   "source": [
    " "
   ]
  },
  {
   "cell_type": "code",
   "execution_count": null,
   "id": "f00c9656-7a87-4925-be58-20c182a5ec75",
   "metadata": {},
   "outputs": [],
   "source": []
  },
  {
   "cell_type": "markdown",
   "id": "32c0a4a6-30ba-4cfd-9dc8-221c7d037e30",
   "metadata": {},
   "source": [
    "Question 7- Using setdefault() method, create key named topics in the given dictionary and also add the value of\n",
    "the key as this list ['Python', 'Machine Learning’, 'Deep Learning']\n",
    "dict1 = {'language' : 'Python', 'course': 'Data Science Masters'}"
   ]
  },
  {
   "cell_type": "markdown",
   "id": "78c3ae21-2b6b-4792-ad40-e24b6d4217ea",
   "metadata": {},
   "source": [
    "Answer- Here's how we can use the setdefault() method to add a key named topics with the value ['Python', 'Machine Learning', 'Deep Learning'] to the dictionary dict1:"
   ]
  },
  {
   "cell_type": "code",
   "execution_count": 50,
   "id": "0eb887de-ef6b-4766-bc42-d372f4b1df04",
   "metadata": {},
   "outputs": [
    {
     "data": {
      "text/plain": [
       "{'language': 'Python',\n",
       " 'course': 'Data Science Masters',\n",
       " 'Topics': ['Python', 'Machine Learning', 'Deep Learning']}"
      ]
     },
     "execution_count": 50,
     "metadata": {},
     "output_type": "execute_result"
    }
   ],
   "source": [
    "dict1 = {'language' : 'Python', 'course': 'Data Science Masters'}\n",
    "dict1.setdefault('Topics', ['Python', 'Machine Learning','Deep Learning'])\n",
    "dict1"
   ]
  },
  {
   "cell_type": "markdown",
   "id": "490c94df-fa81-40cd-9c53-dd3ecfe7d736",
   "metadata": {},
   "source": [
    " \n",
    "  \n",
    "  \n",
    "  "
   ]
  },
  {
   "cell_type": "markdown",
   "id": "0cf93654-543f-4edc-b7a5-323be1abd780",
   "metadata": {},
   "source": [
    " "
   ]
  },
  {
   "cell_type": "code",
   "execution_count": null,
   "id": "a832bc30-5d14-414b-9dc5-a5112e77c5bf",
   "metadata": {},
   "outputs": [],
   "source": []
  },
  {
   "cell_type": "markdown",
   "id": "0eb1ea63-c44b-41df-aaff-e4f09b59a208",
   "metadata": {},
   "source": [
    "Question 8- What are the three view objects in dictionaries? Use the three in-built methods in python to display\n",
    "these three view objects for the given dictionary.\n",
    "dict1 = {'Sport': 'Cricket' , 'Teams': ['India', 'Australia', 'England', 'South Africa', 'Sri Lanka', 'New Zealand']}"
   ]
  },
  {
   "cell_type": "markdown",
   "id": "9281f07c-1b83-40c5-9bfb-b8ca8712ef45",
   "metadata": {},
   "source": [
    "Answer- There are three view objects associated with a dictionary:\n",
    "\n",
    "- dict_keys: A view object that contains the keys of the dictionary.\n",
    "- dict_values: A view object that contains the values of the dictionary.\n",
    "- dict_items: A view object that contains the key-value pairs of the dictionary as tuples.\n",
    "\n",
    "\n",
    "Here's how we can use the built-in methods keys(), values(), and items() to display these view objects for the given dictionary dict1:"
   ]
  },
  {
   "cell_type": "code",
   "execution_count": 55,
   "id": "f16b0496-31f2-4bc2-8dd6-b80351cc7124",
   "metadata": {},
   "outputs": [
    {
     "name": "stdout",
     "output_type": "stream",
     "text": [
      "dict_keys(['Sport', 'Teams'])\n",
      "dict_values(['Cricket', ['India', 'Australia', 'England', 'South Africa', 'Sri Lanka', 'New Zealand']])\n",
      "dict_items([('Sport', 'Cricket'), ('Teams', ['India', 'Australia', 'England', 'South Africa', 'Sri Lanka', 'New Zealand'])])\n"
     ]
    }
   ],
   "source": [
    "# Example of using keys(), values(), and items() to display view objects\n",
    "dict1 = {'Sport': 'Cricket' , 'Teams': ['India', 'Australia', 'England', 'South Africa', 'Sri Lanka', 'New Zealand']}\n",
    "\n",
    "# Get the dict_keys object\n",
    "keys_view = dict1.keys()\n",
    "print(keys_view)\n",
    "# Output: dict_keys(['Sport', 'Teams'])\n",
    "\n",
    "# Get the dict_values object\n",
    "values_view = dict1.values()\n",
    "print(values_view)\n",
    "# Output: dict_values(['Cricket', ['India', 'Australia', 'England', 'South Africa', 'Sri Lanka', 'New Zealand']])\n",
    "\n",
    "# Get the dict_items object\n",
    "items_view = dict1.items()\n",
    "print(items_view)\n",
    "# Output: dict_items([('Sport', 'Cricket'), ('Teams', ['India', 'Australia', 'England', 'South Africa', 'Sri Lanka', 'New Zealand'])])\n"
   ]
  },
  {
   "cell_type": "code",
   "execution_count": null,
   "id": "71beb7c6-20e9-43b6-8ffb-bc7161cba8e4",
   "metadata": {},
   "outputs": [],
   "source": []
  }
 ],
 "metadata": {
  "kernelspec": {
   "display_name": "Python 3 (ipykernel)",
   "language": "python",
   "name": "python3"
  },
  "language_info": {
   "codemirror_mode": {
    "name": "ipython",
    "version": 3
   },
   "file_extension": ".py",
   "mimetype": "text/x-python",
   "name": "python",
   "nbconvert_exporter": "python",
   "pygments_lexer": "ipython3",
   "version": "3.10.8"
  }
 },
 "nbformat": 4,
 "nbformat_minor": 5
}
