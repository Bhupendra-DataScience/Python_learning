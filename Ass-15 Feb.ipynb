{
 "cells": [
  {
   "cell_type": "markdown",
   "id": "55b09e08-f7b5-49a2-9e16-b90a9f98a802",
   "metadata": {},
   "source": [
    "Question 1-  What is multiprocessing in python? Why is it useful?"
   ]
  },
  {
   "cell_type": "markdown",
   "id": "151a4099-2d72-4998-ae89-0532fe9f054e",
   "metadata": {},
   "source": [
    "Answer- Multiprocessing in Python is the ability to execute multiple processes or threads in parallel, allowing multiple CPU cores to be utilized simultaneously. It allows for the execution of multiple tasks simultaneously, leading to better performance and faster execution times for CPU-bound tasks.\n",
    "\n",
    "Python's multiprocessing module provides a simple and efficient way to create and manage parallel processes. It enables the programmer to divide a problem into smaller tasks, which can be executed independently on separate CPU cores, and then combine the results to produce the final output.\n",
    "\n",
    "Multiprocessing is particularly useful in situations where a program needs to perform intensive computations or perform multiple I/O-bound tasks simultaneously. Some examples of such tasks include machine learning, data processing, image and video processing, and web scraping.\n",
    "\n",
    "Overall, multiprocessing is a powerful technique that enables programmers to take full advantage of modern, multi-core processors and achieve better performance and efficiency in their programs."
   ]
  },
  {
   "cell_type": "markdown",
   "id": "9f36f387-b667-4514-9930-c423a818679b",
   "metadata": {},
   "source": [
    "  "
   ]
  },
  {
   "cell_type": "markdown",
   "id": "0064319b-b0de-4890-ab22-8976ce86718e",
   "metadata": {},
   "source": [
    "   "
   ]
  },
  {
   "cell_type": "markdown",
   "id": "1255c3a1-4b3c-4be0-8e53-40c9a3184b01",
   "metadata": {},
   "source": [
    " "
   ]
  },
  {
   "cell_type": "markdown",
   "id": "fcfe3f6d-bc56-4726-a4d3-fa2c20b8becc",
   "metadata": {},
   "source": [
    " Question 2- What are the differences between multiprocessing and multithreading?"
   ]
  },
  {
   "cell_type": "markdown",
   "id": "65f32608-8018-4f0e-9e36-d02f9990e579",
   "metadata": {},
   "source": [
    "Answer- Multiprocessing and multithreading are both techniques used in computer programming to achieve parallelism and improve the performance of a program. However, they differ in several ways:\n",
    "\n",
    "Execution model: In multiprocessing, multiple processes run simultaneously, each with its own memory space and resources. In contrast, multithreading involves creating multiple threads within a single process, sharing the same memory space and resources.\n",
    "\n",
    "Communication and synchronization: Interprocess communication (IPC) is required to enable communication and data exchange between processes in multiprocessing. This can be achieved using techniques such as pipes, queues, and shared memory. In multithreading, communication between threads is typically achieved by sharing data structures or using synchronization primitives such as locks, semaphores, and condition variables.\n",
    "\n",
    "Resource usage: Multiprocessing involves creating multiple processes, each with its own memory space and resources, which can lead to increased memory usage and overhead. In contrast, multithreading shares the same memory space and resources within a single process, resulting in lower memory usage and overhead.\n",
    "\n",
    "Error handling: In multiprocessing, errors in one process do not affect the other processes, whereas in multithreading, errors in one thread can affect other threads within the same process.\n",
    "\n",
    "Overall, multiprocessing is best suited for CPU-bound tasks that require heavy computation, while multithreading is more suitable for I/O-bound tasks that require frequent blocking, such as network communication or file input/output operations."
   ]
  },
  {
   "cell_type": "markdown",
   "id": "49d4aa43-2fe4-4fb0-9ae5-60755ce55fb4",
   "metadata": {},
   "source": [
    " "
   ]
  },
  {
   "cell_type": "markdown",
   "id": "c369d6d1-f73f-497e-bd01-8f77bdd785e4",
   "metadata": {},
   "source": [
    "  "
   ]
  },
  {
   "cell_type": "markdown",
   "id": "57877940-e7b7-424b-8ee8-ce382cdc35bc",
   "metadata": {},
   "source": [
    " "
   ]
  },
  {
   "cell_type": "markdown",
   "id": "1c15599e-649b-4806-9898-6f5be2ff28b2",
   "metadata": {},
   "source": [
    "Question 3- Write a python code to create a process using the multiprocessing module."
   ]
  },
  {
   "cell_type": "code",
   "execution_count": 1,
   "id": "9cc1e690-7bba-4108-819d-49d3723d9628",
   "metadata": {},
   "outputs": [
    {
     "name": "stdout",
     "output_type": "stream",
     "text": [
      "This is a child process\n",
      "Process completed\n"
     ]
    }
   ],
   "source": [
    "import multiprocessing\n",
    "\n",
    "def process_function():\n",
    "    print(\"This is a child process\")\n",
    "\n",
    "if __name__ == '__main__':\n",
    "    # Create a new process\n",
    "    p = multiprocessing.Process(target=process_function)\n",
    "\n",
    "    # Start the process\n",
    "    p.start()\n",
    "\n",
    "    # Wait for the process to complete\n",
    "    p.join()\n",
    "\n",
    "    print(\"Process completed\")\n"
   ]
  },
  {
   "cell_type": "markdown",
   "id": "96b0233d-311f-43c7-9f5e-c92ca3521af9",
   "metadata": {},
   "source": [
    " "
   ]
  },
  {
   "cell_type": "markdown",
   "id": "908b2fcb-c289-4164-b4d3-cc663673ef6a",
   "metadata": {},
   "source": [
    " "
   ]
  },
  {
   "cell_type": "markdown",
   "id": "b384ac9f-ae09-4636-9a95-e62ce9b1e8ca",
   "metadata": {},
   "source": [
    " "
   ]
  },
  {
   "cell_type": "markdown",
   "id": "ef3a54e8-efba-40af-8a52-1aa4518f483b",
   "metadata": {},
   "source": [
    "Question 4- What is a multiprocessing pool in python? Why is it used?"
   ]
  },
  {
   "cell_type": "markdown",
   "id": "d464dc22-216e-4eff-b842-eefca00b3f7b",
   "metadata": {},
   "source": [
    "Answer- A multiprocessing pool in Python is a convenient way to parallelize the execution of a function across multiple input values, distributing the work among a specified number of processes. The multiprocessing.Pool class provides a simple way to create a pool of worker processes, each of which can execute the same function on a different set of input data.\n",
    "\n",
    "The Pool class provides a number of methods for executing functions in parallel, such as map(), imap(), and apply_async(). These methods automatically distribute the input data among the worker processes, execute the function on each input value, and return the results in the same order as the input data.\n",
    "\n",
    "Multiprocessing pools are useful in situations where a program needs to perform the same task on a large set of input data, such as processing a large number of images or performing complex computations on a large data set. By distributing the work among multiple processes, multiprocessing pools can significantly speed up the execution time of such tasks, taking advantage of modern multi-core processors.\n",
    "\n",
    "Here's an example code that demonstrates how to use a multiprocessing pool to execute a function in parallel:"
   ]
  },
  {
   "cell_type": "code",
   "execution_count": 2,
   "id": "665d01a9-c8f9-4621-875c-88505030a995",
   "metadata": {},
   "outputs": [
    {
     "name": "stdout",
     "output_type": "stream",
     "text": [
      "[1, 4, 9, 16, 25]\n"
     ]
    }
   ],
   "source": [
    "import multiprocessing\n",
    "\n",
    "def square(x):\n",
    "    return x**2\n",
    "\n",
    "if __name__ == '__main__':\n",
    "    # Create a pool of worker processes\n",
    "    with multiprocessing.Pool() as pool:\n",
    "        # Define the input values\n",
    "        input_values = [1, 2, 3, 4, 5]\n",
    "\n",
    "        # Execute the function on the input values in parallel\n",
    "        results = pool.map(square, input_values)\n",
    "\n",
    "        # Print the results\n",
    "        print(results)\n"
   ]
  },
  {
   "cell_type": "markdown",
   "id": "2164e9cb-a1cf-43b6-890b-67be4c6bb497",
   "metadata": {},
   "source": [
    " "
   ]
  },
  {
   "cell_type": "markdown",
   "id": "bed3d625-7c71-4c78-80bd-c7a49cfb8f10",
   "metadata": {},
   "source": [
    " "
   ]
  },
  {
   "cell_type": "markdown",
   "id": "ef321897-94e4-4c9c-a6ea-e89922e4cf36",
   "metadata": {},
   "source": [
    " "
   ]
  },
  {
   "cell_type": "markdown",
   "id": "a567f8a4-f6ba-4de4-8215-e83de13e4109",
   "metadata": {},
   "source": [
    "Question 5- How can we create a pool of worker processes in python using the multiprocessing module?"
   ]
  },
  {
   "cell_type": "markdown",
   "id": "ca4fda11-4d17-4e29-afed-e6734fe76e21",
   "metadata": {},
   "source": [
    "Answer- In Python, we can create a pool of worker processes using the multiprocessing.Pool class from the multiprocessing module. Here's an example code that demonstrates how to create a pool of worker processes:"
   ]
  },
  {
   "cell_type": "code",
   "execution_count": 3,
   "id": "24512eda-dee2-44e1-b8b2-62bcafee821b",
   "metadata": {},
   "outputs": [
    {
     "name": "stdout",
     "output_type": "stream",
     "text": [
      "[1, 4, 9, 16, 25]\n"
     ]
    }
   ],
   "source": [
    "import multiprocessing\n",
    "\n",
    "def worker_function(x):\n",
    "    # Define the function to be executed by the worker process\n",
    "    result = x**2\n",
    "    return result\n",
    "\n",
    "if __name__ == '__main__':\n",
    "    # Define the number of worker processes to use\n",
    "    num_processes = 4\n",
    "\n",
    "    # Create a pool of worker processes\n",
    "    pool = multiprocessing.Pool(num_processes)\n",
    "\n",
    "    # Define the input values to be processed\n",
    "    input_values = [1, 2, 3, 4, 5]\n",
    "\n",
    "    # Execute the worker function on the input values in parallel\n",
    "    results = pool.map(worker_function, input_values)\n",
    "\n",
    "    # Print the results\n",
    "    print(results)\n",
    "\n",
    "    # Close the pool of worker processes\n",
    "    pool.close()\n",
    "    pool.join()\n"
   ]
  },
  {
   "cell_type": "markdown",
   "id": "e2f82665-ea25-4cf6-913f-1853787f960d",
   "metadata": {},
   "source": [
    " "
   ]
  },
  {
   "cell_type": "markdown",
   "id": "20e5550e-33d5-4be4-952b-73caf8b78455",
   "metadata": {},
   "source": [
    "  "
   ]
  },
  {
   "cell_type": "markdown",
   "id": "e5f02ce4-1f6c-4d41-9f21-98fc508b2aaa",
   "metadata": {},
   "source": [
    "  \n",
    "  "
   ]
  },
  {
   "cell_type": "markdown",
   "id": "273612c6-eab6-4eef-8cbc-30ce004a7c54",
   "metadata": {},
   "source": [
    "Question 6- Write a python program to create 4 processes, each process should print a different number using the\n",
    "multiprocessing module in python."
   ]
  },
  {
   "cell_type": "markdown",
   "id": "0ea23f26-8e00-4786-ad55-a77e68f810a7",
   "metadata": {},
   "source": [
    "Answer- Sure! Here's an example code that creates 4 processes, each printing a different number using the multiprocessing module in Python:"
   ]
  },
  {
   "cell_type": "code",
   "execution_count": 4,
   "id": "2d51d0d4-3759-469c-88ee-47764d24e7ac",
   "metadata": {},
   "outputs": [
    {
     "name": "stdout",
     "output_type": "stream",
     "text": [
      "Process Process-1 Process  printsProcess-2Process 1prints \n",
      " Process-32 \n",
      "prints Process3 \n",
      "Process-4 prints 4\n",
      "All processes completed\n"
     ]
    }
   ],
   "source": [
    "import multiprocessing\n",
    "\n",
    "def print_number(num):\n",
    "    print(\"Process\", multiprocessing.current_process().name, \"prints\", num)\n",
    "\n",
    "if __name__ == '__main__':\n",
    "    # Create a list of numbers to be printed\n",
    "    numbers = [1, 2, 3, 4]\n",
    "\n",
    "    # Create a list of processes\n",
    "    processes = []\n",
    "    for i, num in enumerate(numbers):\n",
    "        process_name = f\"Process-{i+1}\"\n",
    "        p = multiprocessing.Process(target=print_number, args=(num,), name=process_name)\n",
    "        processes.append(p)\n",
    "\n",
    "    # Start the processes\n",
    "    for p in processes:\n",
    "        p.start()\n",
    "\n",
    "    # Wait for the processes to complete\n",
    "    for p in processes:\n",
    "        p.join()\n",
    "\n",
    "    print(\"All processes completed\")\n"
   ]
  },
  {
   "cell_type": "code",
   "execution_count": null,
   "id": "4c759a84-cced-48bf-9093-cc7e29696dd2",
   "metadata": {},
   "outputs": [],
   "source": []
  }
 ],
 "metadata": {
  "kernelspec": {
   "display_name": "Python 3 (ipykernel)",
   "language": "python",
   "name": "python3"
  },
  "language_info": {
   "codemirror_mode": {
    "name": "ipython",
    "version": 3
   },
   "file_extension": ".py",
   "mimetype": "text/x-python",
   "name": "python",
   "nbconvert_exporter": "python",
   "pygments_lexer": "ipython3",
   "version": "3.10.8"
  }
 },
 "nbformat": 4,
 "nbformat_minor": 5
}
