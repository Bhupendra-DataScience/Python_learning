{
 "cells": [
  {
   "cell_type": "markdown",
   "id": "f342d80a-9540-498a-b917-a3d50ab41d0a",
   "metadata": {},
   "source": [
    "Question 1- What is on Exception in python? Write the difference between Exceptions and Syntax errors?"
   ]
  },
  {
   "cell_type": "markdown",
   "id": "958917ec-e6fa-472b-a599-cc10c3022ca3",
   "metadata": {},
   "source": [
    "Answer- An Exception in Python is an error that occurs during the execution of a program due to unforeseen circumstances or errors in the code. When an exception is raised, the program stops executing and tries to find a suitable handler for that specific exception. If no handler is found, the program terminates, and an error message is displayed.\n",
    "\n",
    "Syntax errors, on the other hand, occur when the Python interpreter cannot understand the code you have written. These errors are caused by incorrect syntax, such as missing parentheses or quotes, misspelled keywords, or invalid indentation. Syntax errors prevent the code from being executed at all.\n",
    "\n",
    "The main difference between Exceptions and Syntax errors is that Syntax errors occur during the parsing of code, before the code is executed, while Exceptions occur during the execution of code. Syntax errors can be fixed by correcting the syntax of the code, while Exceptions usually require a more thorough understanding of the code and the specific circumstances that caused the error.\n",
    "\n",
    "In summary, Exceptions are runtime errors that occur during the execution of code due to unforeseen circumstances, while Syntax errors are caused by incorrect syntax in the code, preventing the code from being executed at all."
   ]
  },
  {
   "cell_type": "markdown",
   "id": "bc925026-c9f8-4486-aeb0-5b656af97ece",
   "metadata": {},
   "source": [
    " "
   ]
  },
  {
   "cell_type": "markdown",
   "id": "9598cce3-4952-49a1-8a50-284178207763",
   "metadata": {},
   "source": [
    " "
   ]
  },
  {
   "cell_type": "markdown",
   "id": "68082949-deda-4d1f-8e95-d2a9566be190",
   "metadata": {},
   "source": [
    "Question 2- What happens when on exception is not handled? Explain with on example."
   ]
  },
  {
   "cell_type": "markdown",
   "id": "bc56b2f0-fe5d-4be0-a2be-1a377354e34a",
   "metadata": {},
   "source": [
    "Answer- When an exception is not handled, the program will terminate abnormally, and the user will see an error message indicating the cause of the exception. This is called an unhandled exception.\n",
    "\n",
    "For example, consider the following code snippet in Python:"
   ]
  },
  {
   "cell_type": "code",
   "execution_count": 1,
   "id": "017265c8-1ade-406b-a216-e6c837e3f8d0",
   "metadata": {},
   "outputs": [
    {
     "ename": "ZeroDivisionError",
     "evalue": "division by zero",
     "output_type": "error",
     "traceback": [
      "\u001b[0;31m---------------------------------------------------------------------------\u001b[0m",
      "\u001b[0;31mZeroDivisionError\u001b[0m                         Traceback (most recent call last)",
      "Cell \u001b[0;32mIn[1], line 2\u001b[0m\n\u001b[1;32m      1\u001b[0m a,b\u001b[38;5;241m=\u001b[39m\u001b[38;5;241m1\u001b[39m,\u001b[38;5;241m0\u001b[39m\n\u001b[0;32m----> 2\u001b[0m \u001b[43ma\u001b[49m\u001b[38;5;241;43m/\u001b[39;49m\u001b[43mb\u001b[49m\n",
      "\u001b[0;31mZeroDivisionError\u001b[0m: division by zero"
     ]
    }
   ],
   "source": [
    "a,b=1,0\n",
    "a/b"
   ]
  },
  {
   "cell_type": "markdown",
   "id": "87c36395-5d3e-4f28-a15f-7c406450d874",
   "metadata": {},
   "source": [
    "\n",
    "\n",
    "  \n",
    "\n",
    "One can handle these errors by using exceptation. Please refer below example"
   ]
  },
  {
   "cell_type": "code",
   "execution_count": 3,
   "id": "7a559e9a-b105-4fbd-b223-f5ca2b0c037f",
   "metadata": {},
   "outputs": [
    {
     "name": "stdout",
     "output_type": "stream",
     "text": [
      "Error: division by zero\n"
     ]
    }
   ],
   "source": [
    "a,b=1,0\n",
    "\n",
    "try:\n",
    "    print(a/b)\n",
    "except Exception as e:\n",
    "    print(\"Error:\",e)\n"
   ]
  },
  {
   "cell_type": "markdown",
   "id": "e50895ea-d02d-4c1b-9b1a-f058701b4ebc",
   "metadata": {},
   "source": [
    "\n",
    "\n",
    "The above code is run withount any error."
   ]
  },
  {
   "cell_type": "markdown",
   "id": "36c237ad-d3df-4eb6-8c38-c4e89348c4f7",
   "metadata": {},
   "source": [
    " "
   ]
  },
  {
   "cell_type": "markdown",
   "id": "16782ad5-c943-4bdd-8ca4-f77d712dd84d",
   "metadata": {},
   "source": [
    " "
   ]
  },
  {
   "cell_type": "markdown",
   "id": "c3ba4615-0b78-40df-a6bc-8c323ed4e88e",
   "metadata": {},
   "source": [
    " "
   ]
  },
  {
   "cell_type": "markdown",
   "id": "f2767f6b-87f1-40a7-8cb2-417e3ad24a18",
   "metadata": {},
   "source": [
    "Question 3- Which Python statements ore used to catch and handle exceptions? Explain with on example."
   ]
  },
  {
   "cell_type": "markdown",
   "id": "4030a774-bfca-40a3-aaf7-3bf70930426c",
   "metadata": {},
   "source": [
    "Answer- In Python, the try and except statements are used to catch and handle exceptions.\n",
    "\n",
    "The try statement is used to enclose the code that may raise an exception. If an exception occurs within the try block, Python immediately jumps to the corresponding except block, which contains the code that will be executed to handle the exception.\n",
    "\n",
    "Here is an example of how to use the try and except statements in Python:"
   ]
  },
  {
   "cell_type": "code",
   "execution_count": 7,
   "id": "a2cdf8e1-1d49-41fb-b8a6-ae4a26a1a8b8",
   "metadata": {},
   "outputs": [
    {
     "name": "stdin",
     "output_type": "stream",
     "text": [
      "Enter the first number:  34\n",
      "Enter the second number:  $\n"
     ]
    },
    {
     "name": "stdout",
     "output_type": "stream",
     "text": [
      "Error invalid literal for int() with base 10: '$'\n"
     ]
    }
   ],
   "source": [
    "try:\n",
    "    num1 = int(input(\"Enter the first number: \"))\n",
    "    num2 = int(input(\"Enter the second number: \"))\n",
    "    result = num1 / num2\n",
    "    print(\"The result of the division is: \", result)\n",
    "except Exception as e:\n",
    "    print(\"Error\",e)\n"
   ]
  },
  {
   "cell_type": "markdown",
   "id": "898591f1-ac0d-4de9-a2e3-e7299a4100e4",
   "metadata": {},
   "source": [
    " "
   ]
  },
  {
   "cell_type": "markdown",
   "id": "7f6ae051-75e1-42ec-81e3-6388cdb2ba87",
   "metadata": {},
   "source": [
    " "
   ]
  },
  {
   "cell_type": "markdown",
   "id": "183d2764-e6eb-4db4-9209-9f3776a6ed9d",
   "metadata": {},
   "source": [
    " "
   ]
  },
  {
   "cell_type": "markdown",
   "id": "0fd62649-6663-47c6-b39e-d949053826e6",
   "metadata": {},
   "source": [
    "Question 4- Explain with on example:\n",
    "- try and else\n",
    "- finally\n",
    "- raise\n"
   ]
  },
  {
   "cell_type": "markdown",
   "id": "68a86c1e-b139-42a2-9606-9576613a1fda",
   "metadata": {},
   "source": [
    "Answer-\n",
    "- try and else- we can use the try-except-else statements to handle exceptions that may occur in our code, while also executing some code if no exceptions are raised. The else block is executed after the try block, but before the finally block (if present), and it contains the code that will be executed if no exception occurs in the try block."
   ]
  },
  {
   "cell_type": "code",
   "execution_count": 15,
   "id": "ceddf86b-f294-4240-9f99-c490a7a7732f",
   "metadata": {},
   "outputs": [
    {
     "name": "stdin",
     "output_type": "stream",
     "text": [
      "Enter the first number:  23\n",
      "Enter the second number:  2\n"
     ]
    },
    {
     "name": "stdout",
     "output_type": "stream",
     "text": [
      "The result of the division is:  11.5\n"
     ]
    }
   ],
   "source": [
    "# Example of try and else\n",
    "try:\n",
    "    num1 = int(input(\"Enter the first number: \"))\n",
    "    num2 = int(input(\"Enter the second number: \"))\n",
    "    result = num1 / num2\n",
    "except Exception as e:\n",
    "    print(\"Error\",e)\n",
    "else:\n",
    "    print(\"The result of the division is: \", result)\n"
   ]
  },
  {
   "cell_type": "markdown",
   "id": "78a1b234-d52d-4415-92ec-f860669a5610",
   "metadata": {},
   "source": [
    "- finally-  The finally block in Python is used to specify a block of code that will be executed regardless of whether an exception was raised or not. This block of code is useful for tasks that need to be performed regardless of whether an exception was raised or not, such as closing a file or releasing a resource."
   ]
  },
  {
   "cell_type": "code",
   "execution_count": 14,
   "id": "2258b933-27ee-461a-98c2-b189c38df987",
   "metadata": {},
   "outputs": [
    {
     "name": "stdout",
     "output_type": "stream",
     "text": [
      "Eroor [Errno 2] No such file or directory: 'file.txt'\n"
     ]
    }
   ],
   "source": [
    "#example of finally\n",
    "try:\n",
    "    f=open(\"file.txt\", \"r\")\n",
    "except Exception as e:\n",
    "    print(\"Eroor\",e)\n",
    "finally:\n",
    "    f.close()"
   ]
  },
  {
   "cell_type": "markdown",
   "id": "9316ba55-77a5-4b5a-b07c-07ca7e4313c6",
   "metadata": {},
   "source": [
    "- Raise-  the raise keyword is used to manually raise an exception. We can use this keyword to indicate that an error has occurred in our code, and to specify the type of the exception that has occurred."
   ]
  },
  {
   "cell_type": "code",
   "execution_count": 21,
   "id": "ee10469e-3c27-42b1-9533-55b930a00776",
   "metadata": {},
   "outputs": [
    {
     "name": "stdin",
     "output_type": "stream",
     "text": [
      "enter your age 342\n"
     ]
    },
    {
     "name": "stdout",
     "output_type": "stream",
     "text": [
      "Age is too high\n"
     ]
    }
   ],
   "source": [
    "# example of raise in custom exception handling\n",
    "\n",
    "class validateage(Exception):\n",
    "    def __init__(self,msg):\n",
    "        self.msg=msg\n",
    "\n",
    "def validate_age(age):\n",
    "    if age<0:\n",
    "        raise validateage(\"Age should not be lesser than 0\")\n",
    "    elif age>200:\n",
    "        raise validateage(\"Age is too high\")\n",
    "    else:\n",
    "        print(\"Age is valid\")\n",
    "\n",
    "try:\n",
    "    age= int(input(\"enter your age\"))\n",
    "    validate_age(age)\n",
    "except validateage as e:\n",
    "    print(e)"
   ]
  },
  {
   "cell_type": "markdown",
   "id": "dd1387dd-b367-43f1-bbf2-71feb6467c19",
   "metadata": {},
   "source": [
    "  \n",
    "  "
   ]
  },
  {
   "cell_type": "markdown",
   "id": "95037774-9a72-427c-8f10-c53ac1da32d9",
   "metadata": {},
   "source": [
    "  "
   ]
  },
  {
   "cell_type": "markdown",
   "id": "5be13601-4a73-4e6d-987f-0118c874a23a",
   "metadata": {},
   "source": [
    "  "
   ]
  },
  {
   "cell_type": "markdown",
   "id": "22a34521-542b-43c9-9a17-c3f6d01b3ff2",
   "metadata": {},
   "source": [
    "Question 5- What are Custom Exceptions in python? Why do we need Custom Exceptions? Explain with on example. "
   ]
  },
  {
   "cell_type": "markdown",
   "id": "aae3df0e-871f-46e1-add1-611eea1cdabe",
   "metadata": {},
   "source": [
    "Answer -  Custom exceptions, also known as user-defined exceptions, are exceptions that are created by the programmer to handle specific errors that may occur in their program. These exceptions can be based on existing Python exceptions or they can be completely new exceptions.\n",
    "\n",
    "Custom exceptions can be useful in situations where the standard exceptions provided by Python are not sufficient to handle specific errors in a program. By creating custom exceptions, programmers can provide more detailed information about the error that has occurred and can handle the error in a more specific way.\n",
    "\n",
    "Here's an example of how to create and use a custom exception in Python:"
   ]
  },
  {
   "cell_type": "code",
   "execution_count": 22,
   "id": "aa5651a2-797e-426f-81d2-eaca85602c70",
   "metadata": {},
   "outputs": [
    {
     "name": "stdin",
     "output_type": "stream",
     "text": [
      "enter your age -4\n"
     ]
    },
    {
     "name": "stdout",
     "output_type": "stream",
     "text": [
      "Age should not be lesser than 0\n"
     ]
    }
   ],
   "source": [
    "# example of custom exception handling\n",
    "\n",
    "class validateage(Exception):\n",
    "    def __init__(self,msg):\n",
    "        self.msg=msg\n",
    "\n",
    "def validate_age(age):\n",
    "    if age<0:\n",
    "        raise validateage(\"Age should not be lesser than 0\")\n",
    "    elif age>200:\n",
    "        raise validateage(\"Age is too high\")\n",
    "    else:\n",
    "        print(\"Age is valid\")\n",
    "\n",
    "try:\n",
    "    age= int(input(\"enter your age\"))\n",
    "    validate_age(age)\n",
    "except validateage as e:\n",
    "    print(e)"
   ]
  },
  {
   "cell_type": "markdown",
   "id": "9680a5d0-e8a0-4d7c-9fbe-cb7bd688b951",
   "metadata": {},
   "source": [
    " "
   ]
  },
  {
   "cell_type": "code",
   "execution_count": null,
   "id": "b541cad5-55c2-456f-980a-e1afdf112745",
   "metadata": {},
   "outputs": [],
   "source": [
    " "
   ]
  },
  {
   "cell_type": "markdown",
   "id": "ec51a9e3-608a-4cf6-b6b4-63ee738c996e",
   "metadata": {},
   "source": [
    "  "
   ]
  },
  {
   "cell_type": "markdown",
   "id": "4482e734-ab11-49d3-b2ef-866d108462f0",
   "metadata": {},
   "source": [
    "Question 6- Create a custom exception class. Use this class to handle on exception"
   ]
  },
  {
   "cell_type": "markdown",
   "id": "57eaa3c5-b987-4ca9-93b1-7c1759bc87a0",
   "metadata": {},
   "source": [
    "Answer- let's create a class function for square root"
   ]
  },
  {
   "cell_type": "code",
   "execution_count": 27,
   "id": "fad3121f-d6bb-4e1c-9786-ab4c9262c5ab",
   "metadata": {},
   "outputs": [
    {
     "name": "stdin",
     "output_type": "stream",
     "text": [
      "Please enter a number -43\n"
     ]
    },
    {
     "name": "stdout",
     "output_type": "stream",
     "text": [
      "Please enter a valid number.\n",
      "Number should be a positive number\n"
     ]
    }
   ],
   "source": [
    "# example of custom exception handling\n",
    "\n",
    "class calculate_square_root(Exception):\n",
    "    def __init__(self,msg):\n",
    "        self.msg=msg\n",
    "\n",
    "def calculateSquareRoot(number):\n",
    "    if number<0:\n",
    "        raise calculate_square_root(\"Please enter a valid number to find square root.\\nNumber should be a positive number\")\n",
    "    else:\n",
    "        print(\"Square root of number:\", number**(0.5))\n",
    "\n",
    "try:\n",
    "    Number= int(input(\"Please enter a number to find a \"))\n",
    "    calculateSquareRoot(Number)\n",
    "except calculate_square_root as e:\n",
    "    print(e)"
   ]
  },
  {
   "cell_type": "code",
   "execution_count": null,
   "id": "9a11008e-9e16-4dc4-82a5-6d03d7448f23",
   "metadata": {},
   "outputs": [],
   "source": []
  }
 ],
 "metadata": {
  "kernelspec": {
   "display_name": "Python 3 (ipykernel)",
   "language": "python",
   "name": "python3"
  },
  "language_info": {
   "codemirror_mode": {
    "name": "ipython",
    "version": 3
   },
   "file_extension": ".py",
   "mimetype": "text/x-python",
   "name": "python",
   "nbconvert_exporter": "python",
   "pygments_lexer": "ipython3",
   "version": "3.10.8"
  }
 },
 "nbformat": 4,
 "nbformat_minor": 5
}
