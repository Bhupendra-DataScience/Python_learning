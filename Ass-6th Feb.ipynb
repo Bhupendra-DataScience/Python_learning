{
 "cells": [
  {
   "cell_type": "markdown",
   "id": "e4386da2-40e4-44ff-bf07-d411a6b11965",
   "metadata": {},
   "source": [
    "Q1. Create a function which will take a list as an argument and return the product of all the numbers\n",
    "after creating a flat list.\n",
    "Use the below-given list as an argument for your function.\n",
    "list1 = [1,2,3,4, [44,55,66, True], False, (34,56,78,89,34), {1,2,3,3,2,1}, {1:34, \"key2\": [55, 67, 78, 89], 4: (45,\n",
    "22, 61, 34)}, [56, 'data science'], 'Machine Learning']\n",
    "Note: you must extract numeric keys and values of the dictionary also."
   ]
  },
  {
   "cell_type": "markdown",
   "id": "b9e62c86-5968-4d1e-91da-98d7d2b8786e",
   "metadata": {},
   "source": [
    "Answer- Written the function as per below:"
   ]
  },
  {
   "cell_type": "markdown",
   "id": "8149f699-8b80-4fb1-ac32-50099ea396c4",
   "metadata": {},
   "source": []
  },
  {
   "cell_type": "code",
   "execution_count": 13,
   "id": "5537bb30-394b-4251-bcdf-44c4e8651c23",
   "metadata": {},
   "outputs": [],
   "source": [
    "def product_of_numbers(lst):\n",
    "    # Create a flattened list of all numeric values\n",
    "    flat_list = []\n",
    "    for item in lst:\n",
    "        if isinstance(item, (int, float)):\n",
    "            flat_list.append(item)\n",
    "        elif isinstance(item, list):\n",
    "            flat_list.extend([i for i in item if isinstance(i, (int, float))])\n",
    "        elif isinstance(item, tuple):\n",
    "            flat_list.extend([i for i in item if isinstance(i, (int, float))])\n",
    "        elif isinstance(item, set):\n",
    "            flat_list.extend([i for i in item if isinstance(i, (int, float))])\n",
    "        elif isinstance(item, dict):\n",
    "            flat_list.extend([i for i in item.keys() if isinstance(i, (int, float))])\n",
    "            flat_list.extend([i for i in item.values() if isinstance(i, (int, float))])\n",
    "            \n",
    "    \n",
    "    # Compute the product of all the non-zero numbers in the flattened list\n",
    "    product = 1\n",
    "    for num in flat_list:\n",
    "        if num != 0:\n",
    "            product *= num\n",
    "    \n",
    "    return product\n"
   ]
  },
  {
   "cell_type": "code",
   "execution_count": 14,
   "id": "a683220b-acf2-4734-b6ec-614464e05f21",
   "metadata": {},
   "outputs": [
    {
     "name": "stdout",
     "output_type": "stream",
     "text": [
      "78718933113238978560\n"
     ]
    }
   ],
   "source": [
    "list1 = [1,2,3,4, [44,55,66, True], False, (34,56,78,89,34), {1,2,3,3,2,1}, {1:34, \"key2\": [55, 67, 78, 89], 4: (45,\n",
    "22, 61, 34)}, [56, 'data science'], 'Machine Learning']\n",
    "result = product_of_numbers(list1)\n",
    "print(result)\n"
   ]
  },
  {
   "cell_type": "code",
   "execution_count": 1,
   "id": "140b4d0e-26ac-4f4c-a75d-3bef69e9261f",
   "metadata": {},
   "outputs": [],
   "source": []
  },
  {
   "cell_type": "code",
   "execution_count": null,
   "id": "7ded13aa-b501-466a-9553-102970dcf796",
   "metadata": {},
   "outputs": [],
   "source": []
  },
  {
   "cell_type": "code",
   "execution_count": null,
   "id": "dceefd17-894b-4ffd-9424-34e961373657",
   "metadata": {},
   "outputs": [],
   "source": []
  },
  {
   "cell_type": "markdown",
   "id": "3e2056fd-38d5-493f-9808-19d2ee1e058a",
   "metadata": {},
   "source": [
    "Q2. Write a python program for encrypting a message sent to you by your friend. The logic of encryption\n",
    "should be such that, for a the output should be z. For b, the output should be y. For c, the output should\n",
    "be x respectively. Also, the whitespace should be replaced with a dollar sign. Keep the punctuation\n",
    "marks unchanged.\n",
    "Input Sentence: I want to become a Data Scientist.\n",
    "\n",
    "Encrypt the above input sentence using the program you just created.\n",
    "Note: Convert the given input sentence into lowercase before encrypting. The final output should be\n",
    "lowercase.\n",
    "\n",
    "Answer- The code is as per below:"
   ]
  },
  {
   "cell_type": "code",
   "execution_count": 16,
   "id": "51aac844-c6cf-417c-b057-beb714336b45",
   "metadata": {},
   "outputs": [
    {
     "name": "stdout",
     "output_type": "stream",
     "text": [
      "r$dzmg$gl$yvxlnv$z$wzgz$hxrvmgrhg.\n"
     ]
    }
   ],
   "source": [
    "def encrypt(message):\n",
    "    # Convert to lowercase\n",
    "    message = message.lower()\n",
    "    \n",
    "    # Map each letter to its encrypted counterpart\n",
    "    mapping = str.maketrans('abcdefghijklmnopqrstuvwxyz ', 'zyxwvutsrqponmlkjihgfedcba$')\n",
    "    encrypted_message = message.translate(mapping)\n",
    "    \n",
    "    return encrypted_message\n",
    "\n",
    "# Example usage\n",
    "message = \"I want to become a Data Scientist.\"\n",
    "encrypted_message = encrypt(message)\n",
    "print(encrypted_message)\n"
   ]
  },
  {
   "cell_type": "code",
   "execution_count": null,
   "id": "a82b863d-2f72-40c7-be0f-708b8c32f2a2",
   "metadata": {},
   "outputs": [],
   "source": []
  }
 ],
 "metadata": {
  "kernelspec": {
   "display_name": "Python 3 (ipykernel)",
   "language": "python",
   "name": "python3"
  },
  "language_info": {
   "codemirror_mode": {
    "name": "ipython",
    "version": 3
   },
   "file_extension": ".py",
   "mimetype": "text/x-python",
   "name": "python",
   "nbconvert_exporter": "python",
   "pygments_lexer": "ipython3",
   "version": "3.10.8"
  }
 },
 "nbformat": 4,
 "nbformat_minor": 5
}
