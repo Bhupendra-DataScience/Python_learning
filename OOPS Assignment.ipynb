{
 "cells": [
  {
   "cell_type": "markdown",
   "id": "3fae4565-0e4e-466f-bdbe-cbdc2549da06",
   "metadata": {},
   "source": [
    "Question 1- Explain Class and Object with respect to Object-Oriented Programming. Give a suitable example.\n",
    "\n",
    "Answer- In object-oriented programming, a class is a blueprint for creating objects that define a set of attributes (data) and methods (functions) that the objects can perform. An object, on the other hand, is an instance of a class that has specific values for its attributes and can invoke the methods defined in the class.\n",
    "\n",
    "For example, let's say we have a class called \"Calculation\" that doing sum and division & here c1 and c2 are two class object.\n"
   ]
  },
  {
   "cell_type": "code",
   "execution_count": 3,
   "id": "4cc5a24c-758f-4d5b-9e9c-d1b83cdbf7a6",
   "metadata": {},
   "outputs": [
    {
     "name": "stdout",
     "output_type": "stream",
     "text": [
      "30\n",
      "2.0\n"
     ]
    }
   ],
   "source": [
    "class calculation:              #Class declaration  \n",
    "      \n",
    "    def __init__(self,a,b):  \n",
    "        self.a=a  \n",
    "        self.b=b  \n",
    "  \n",
    "    def Add(self):  \n",
    "        print(self.a+self.b)  \n",
    "    def Divide(self):  \n",
    "        print(self.a/self.b)  \n",
    "c1=calculation(10,20)           #Declare object c1  \n",
    "c2=calculation(100,50)          #Declare object c2  \n",
    "c1.Add()                        #Call our Instance method Add  \n",
    "c2.Divide()                     #Call our instance method Divide "
   ]
  },
  {
   "cell_type": "code",
   "execution_count": null,
   "id": "f6dd5ffb-63e5-4b43-8344-4413622ffb96",
   "metadata": {},
   "outputs": [],
   "source": [
    "\n"
   ]
  },
  {
   "cell_type": "markdown",
   "id": "30b6d3f1-6308-430d-bdb1-3902fc5e3a10",
   "metadata": {},
   "source": [
    "Question 2. Name the four pillars of OOPs.\n",
    "\n",
    "Answer- The four pillars of object-oriented programming (OOP) are:\n",
    "\n",
    "1. Encapsulation: It is the process of hiding the implementation details of an object from the outside world and exposing only the necessary information through methods. This helps to achieve data security, maintainability, and flexibility.\n",
    "\n",
    "2. Inheritance: It is a mechanism by which a new class is created from an existing class, inheriting the properties and behaviors of the parent class. This helps to reuse code, reduce code redundancy, and organize code into a hierarchy.\n",
    "\n",
    "3. Polymorphism: It is the ability of an object to take on many forms, depending on the context in which it is used. Polymorphism can be achieved through method overloading, method overriding, and interfaces, and it helps to write flexible and reusable code.\n",
    "\n",
    "4. Abstraction: It is the process of focusing on essential features of an object and ignoring the irrelevant details. Abstraction can be achieved through abstract classes and interfaces, and it helps to reduce complexity, increase efficiency, and maintain the code."
   ]
  },
  {
   "cell_type": "code",
   "execution_count": null,
   "id": "881baf41-e39e-4ab4-b8d7-2c94ef8e3da9",
   "metadata": {},
   "outputs": [],
   "source": []
  },
  {
   "cell_type": "markdown",
   "id": "2d1ce4bf-2a6a-4fd5-9ff6-c039e0941947",
   "metadata": {},
   "source": [
    "Question 3- Explain why the __init__() function is used. Give a suitable example.\n",
    "\n",
    "Answer- In object-oriented programming, the __init__() function is a special method that is called automatically when an object is created from a class. It is used to initialize the object's attributes with the values provided during object creation, and it can also perform any other necessary setup or initialization.\n",
    "\n",
    "The __init__() method is useful because it allows us to ensure that every object created from the class has the necessary attributes and initial values, which can help avoid errors and make the code more maintainable.\n",
    "\n",
    "Here's an example of how the __init__() method can be used in a Python class:"
   ]
  },
  {
   "cell_type": "code",
   "execution_count": 5,
   "id": "77237d2a-5290-4ab2-abef-f6b415783090",
   "metadata": {},
   "outputs": [
    {
     "name": "stdout",
     "output_type": "stream",
     "text": [
      "Hello, my name is Bhupendra Mishra and I am 27 years old.\n",
      "Hello, my name is Krish Naik and I am 30 years old.\n",
      "Hello, my name is Sudhanshu and I am 30 years old.\n"
     ]
    }
   ],
   "source": [
    "class Person:\n",
    "    def __init__(self, name, age):\n",
    "        self.name = name\n",
    "        self.age = age\n",
    "\n",
    "    def greet(self):\n",
    "        print(\"Hello, my name is\", self.name, \"and I am\", self.age, \"years old.\")\n",
    "\n",
    "person1 = Person(\"Bhupendra Mishra\", 27)\n",
    "person2 = Person(\"Krish Naik\", 30)\n",
    "person3 = Person(\"Sudhanshu\",30)\n",
    "\n",
    "person1.greet()\n",
    "person2.greet()\n",
    "person3.greet()"
   ]
  },
  {
   "cell_type": "markdown",
   "id": "621d5b02-d2fb-427e-b5d2-e7bbfd0ea531",
   "metadata": {},
   "source": [
    "In this example, we have a Person class with an __init__() method that takes two arguments: name and age. These arguments are used to set the name and age attributes of each object created from the class."
   ]
  },
  {
   "cell_type": "code",
   "execution_count": null,
   "id": "4c0ce572-563f-4e9c-b9e4-8b9b4c3d4756",
   "metadata": {},
   "outputs": [],
   "source": []
  },
  {
   "cell_type": "markdown",
   "id": "6d5a1832-0cad-4a1e-b9a0-313ee12b94ef",
   "metadata": {},
   "source": [
    "Question 4- Why self is used in OOPs?\n",
    "\n",
    "Answer- self is not a keyword, it is for refrence the class objects.  We can say that the self keyword is used to refer to the current instance of a class, which is the object that is being created or operated on. The self keyword is used as the first parameter in most instance methods of a class, including the __init__() method.\n",
    "\n",
    "Using the self keyword is important because it allows us to access and manipulate the object's attributes and methods within the class. When a method is called on an object, the object itself is automatically passed as the first argument to the method, which is referred to as self.\n",
    "\n",
    "We can use self-defined keyword insted of self. The only thing is there we have to provide atleast one keyword in defining class.\n",
    "\n",
    "For example- I have given self-defined keyword as 'bhupi' on below program"
   ]
  },
  {
   "cell_type": "code",
   "execution_count": 6,
   "id": "b7ac6a43-0644-4705-b82c-a8518863ea90",
   "metadata": {},
   "outputs": [
    {
     "name": "stdout",
     "output_type": "stream",
     "text": [
      "Hello, my name is Bhupendra Mishra and I am 27 years old.\n",
      "Hello, my name is Krish Naik and I am 30 years old.\n",
      "Hello, my name is Sudhanshu and I am 30 years old.\n"
     ]
    }
   ],
   "source": [
    "class Person:\n",
    "    def __init__(bhupi, name, age):\n",
    "        bhupi.name = name\n",
    "        bhupi.age = age\n",
    "\n",
    "    def greet(bhupi):\n",
    "        print(\"Hello, my name is\", bhupi.name, \"and I am\", bhupi.age, \"years old.\")\n",
    "\n",
    "person1 = Person(\"Bhupendra Mishra\", 27)\n",
    "person2 = Person(\"Krish Naik\", 30)\n",
    "person3 = Person(\"Sudhanshu\",30)\n",
    "\n",
    "person1.greet()\n",
    "person2.greet()\n",
    "person3.greet()"
   ]
  },
  {
   "cell_type": "markdown",
   "id": "9b04634b-de99-4508-b425-93d555323f3c",
   "metadata": {},
   "source": [
    "#### The program is even working fine with keyword 'bhupi'."
   ]
  },
  {
   "cell_type": "code",
   "execution_count": null,
   "id": "67f752d1-fbeb-4992-8d48-5ba78a840ab5",
   "metadata": {},
   "outputs": [],
   "source": []
  },
  {
   "cell_type": "markdown",
   "id": "595f00ea-759f-4e12-be60-d39b0d13353b",
   "metadata": {},
   "source": [
    "Question 5- What is inheritance? Give an example for each type of inheritance.\n",
    "\n",
    "Answer- In object-oriented programming, inheritance is a mechanism that allows a new class to be based on an existing class, inheriting the properties and behaviors of the parent class. The new class is called the derived class or subclass, and the existing class is called the base class or superclass.\n",
    "\n",
    "There are four types of inheritance:\n",
    "\n",
    "1. Single inheritance: In single inheritance, a subclass inherits from a single base class.\n",
    "\n",
    "Example:"
   ]
  },
  {
   "cell_type": "code",
   "execution_count": 7,
   "id": "9535c189-2fa8-4ccb-9ccc-97335a4d1954",
   "metadata": {},
   "outputs": [
    {
     "name": "stdout",
     "output_type": "stream",
     "text": [
      "Driving a vehicle\n",
      "Parking a car\n"
     ]
    }
   ],
   "source": [
    "class Vehicle:\n",
    "    def drive(self):\n",
    "        print(\"Driving a vehicle\")\n",
    "\n",
    "class Car(Vehicle):\n",
    "    def park(self):\n",
    "        print(\"Parking a car\")\n",
    "\n",
    "my_car = Car()\n",
    "my_car.drive()  # inherited from Vehicle class\n",
    "my_car.park()   # defined in Car class"
   ]
  },
  {
   "cell_type": "markdown",
   "id": "6005d980-d684-4865-a043-725b6438a9cf",
   "metadata": {},
   "source": [
    "In this example, the Vehicle class is the base class and the Car class is the derived class. The Car class inherits the drive() method from the Vehicle class and defines its own park() method."
   ]
  },
  {
   "cell_type": "markdown",
   "id": "c873040a-721c-439b-9368-1a44a9b3c91c",
   "metadata": {},
   "source": [
    "2. Multilevel inheritance: In multilevel inheritance, a subclass inherits from a base class that is also a derived class of another base class.\n",
    "\n",
    "Example:"
   ]
  },
  {
   "cell_type": "code",
   "execution_count": 8,
   "id": "b509beab-4795-43a9-8d8e-3fff7827193a",
   "metadata": {},
   "outputs": [
    {
     "name": "stdout",
     "output_type": "stream",
     "text": [
      "Breathing...\n",
      "Feeding baby with milk...\n",
      "Barking...\n"
     ]
    }
   ],
   "source": [
    "class Animal:\n",
    "    def breathe(self):\n",
    "        print(\"Breathing...\")\n",
    "\n",
    "class Mammal(Animal):\n",
    "    def feed_baby_with_milk(self):\n",
    "        print(\"Feeding baby with milk...\")\n",
    "\n",
    "class Dog(Mammal):\n",
    "    def bark(self):\n",
    "        print(\"Barking...\")\n",
    "\n",
    "my_dog = Dog()\n",
    "my_dog.breathe()  # inherited from Animal class\n",
    "my_dog.feed_baby_with_milk()  # inherited from Mammal class\n",
    "my_dog.bark()  # defined in Dog class\n"
   ]
  },
  {
   "cell_type": "markdown",
   "id": "96426790-7c0c-4834-b9bf-e92a689de974",
   "metadata": {},
   "source": [
    "In this example, the Animal class is the base class, the Mammal class is derived from Animal, and the Dog class is derived from Mammal. The Dog class inherits the breathe() method from the Animal class and the feed_baby_with_milk() method from the Mammal class, and defines its own bark() method."
   ]
  },
  {
   "cell_type": "markdown",
   "id": "9977f791-1055-421a-91d8-a14111f80e60",
   "metadata": {},
   "source": [
    "3. Multiple inheritance: In multiple inheritance, a subclass inherits from two or more base classes.\n",
    "\n",
    "Example:"
   ]
  },
  {
   "cell_type": "code",
   "execution_count": 9,
   "id": "ca4e4a33-2b99-4ef4-9c5e-a5344a72188e",
   "metadata": {},
   "outputs": [
    {
     "name": "stdout",
     "output_type": "stream",
     "text": [
      "Method A\n",
      "Method B\n",
      "Method C\n"
     ]
    }
   ],
   "source": [
    "class A:\n",
    "    def method_a(self):\n",
    "        print(\"Method A\")\n",
    "\n",
    "class B:\n",
    "    def method_b(self):\n",
    "        print(\"Method B\")\n",
    "\n",
    "class C(A, B):\n",
    "    def method_c(self):\n",
    "        print(\"Method C\")\n",
    "\n",
    "my_c = C()\n",
    "my_c.method_a()  # inherited from A class\n",
    "my_c.method_b()  # inherited from B class\n",
    "my_c.method_c()  # defined in C class\n"
   ]
  },
  {
   "cell_type": "markdown",
   "id": "5e16944f-9e49-4ab1-bbdd-628a9e755cad",
   "metadata": {},
   "source": [
    "In this example, the C class inherits from both the A and B classes, and defines its own method_c(). The C class inherits the method_a() and method_b() methods from the A and B classes, respectively."
   ]
  },
  {
   "cell_type": "markdown",
   "id": "ffd01eb9-d89e-4680-a68c-e688e3061283",
   "metadata": {},
   "source": [
    "4. Hierarchical inheritance: In hierarchical inheritance, multiple subclasses inherit from the same base class.\n",
    "\n",
    "\n",
    "Example:\n",
    "\n",
    "\n",
    "\n",
    "\n",
    "\n"
   ]
  },
  {
   "cell_type": "code",
   "execution_count": 11,
   "id": "64cc829d-0fe0-41c0-890e-1e47ff806339",
   "metadata": {},
   "outputs": [
    {
     "name": "stdout",
     "output_type": "stream",
     "text": [
      "Breathing...\n",
      "Feeding baby with milk...\n",
      "Meowing...\n"
     ]
    }
   ],
   "source": [
    "class Animal:\n",
    "    def breathe(self):\n",
    "        print(\"Breathing...\")\n",
    "\n",
    "class Mammal(Animal):\n",
    "    def feed_baby_with_milk(self):\n",
    "        print(\"Feeding baby with milk...\")\n",
    "\n",
    "class Cat(Mammal):\n",
    "    def meow(self):\n",
    "        print(\"Meowing...\")\n",
    "\n",
    "class Dog(Mammal):\n",
    "    def bark(self):\n",
    "        print(\"Barking...\")\n",
    "\n",
    "my_cat = Cat()\n",
    "my_cat.breathe()  # inherited from Animal class\n",
    "my_cat.feed_baby_with_milk()  # inherited from Mammal class\n",
    "my_cat.meow()  # defined in Cat class\n"
   ]
  },
  {
   "cell_type": "code",
   "execution_count": null,
   "id": "201d8011-cd52-4186-a375-d5ca19df3814",
   "metadata": {},
   "outputs": [],
   "source": []
  }
 ],
 "metadata": {
  "kernelspec": {
   "display_name": "Python 3 (ipykernel)",
   "language": "python",
   "name": "python3"
  },
  "language_info": {
   "codemirror_mode": {
    "name": "ipython",
    "version": 3
   },
   "file_extension": ".py",
   "mimetype": "text/x-python",
   "name": "python",
   "nbconvert_exporter": "python",
   "pygments_lexer": "ipython3",
   "version": "3.10.8"
  }
 },
 "nbformat": 4,
 "nbformat_minor": 5
}
