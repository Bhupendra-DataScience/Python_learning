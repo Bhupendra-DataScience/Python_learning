{
 "cells": [
  {
   "cell_type": "markdown",
   "id": "7cf75a63-db3b-419f-9c34-417f93373307",
   "metadata": {},
   "source": [
    "Q1. You are writing code for a company. The requirement of the company is that you create a python\n",
    "function that will check whether the password entered by the user is correct or not. The function should\n",
    "take the password as input and return the string “Valid Password” if the entered password follows the\n",
    "below-given password guidelines else it should return “Invalid Password”.\n",
    "Note: \n",
    "1. The Password should contain at least two uppercase letters and at least two lowercase letters.\n",
    "2. The Password should contain at least a number and three special characters.\n",
    "3. The length of the password should be 10 characters long."
   ]
  },
  {
   "cell_type": "code",
   "execution_count": 2,
   "id": "0a2769be-d623-4077-97f2-5ec783c9ce1e",
   "metadata": {},
   "outputs": [],
   "source": [
    "import re\n",
    "\n",
    "def check_password(password):\n",
    "    # check length of password\n",
    "    if len(password) != 10:\n",
    "        return \"Invalid Password\"\n",
    "    \n",
    "    # check for at least 2 uppercase letters\n",
    "    if not re.search(r'[A-Z].*[A-Z]', password):\n",
    "        return \"Invalid Password\"\n",
    "    \n",
    "    # check for at least 2 lowercase letters\n",
    "    if not re.search(r'[a-z].*[a-z]', password):\n",
    "        return \"Invalid Password\"\n",
    "    \n",
    "    # check for at least 1 number\n",
    "    if not re.search(r'\\d', password):\n",
    "        return \"Invalid Password\"\n",
    "    \n",
    "    # check for at least 3 special characters\n",
    "    if not re.search(r'[!@#$%^&*()_+={}[\\]|:;\"<>,.?\\/-~].*[!@#$%^&*()_+={}[\\]|:;\"<>,.?\\/-~].*[!@#$%^&*()_+={}[\\]|:;\"<>,.?\\/-~]', password):\n",
    "        return \"Invalid Password\"\n",
    "    \n",
    "    # if all criteria are met, return Valid Password\n",
    "    return \"Valid Password\"\n"
   ]
  },
  {
   "cell_type": "code",
   "execution_count": 4,
   "id": "dc761b7d-3764-45f9-9742-d92a35c5c1fb",
   "metadata": {},
   "outputs": [
    {
     "name": "stdout",
     "output_type": "stream",
     "text": [
      "Valid Password\n",
      "Invalid Password\n",
      "Invalid Password\n",
      "Invalid Password\n",
      "Valid Password\n"
     ]
    }
   ],
   "source": [
    "print(check_password(\"A1C*d1a3#@\"))  # Valid Password\n",
    "print(check_password(\"Abcdefghgh\"))  # Invalid Password (no special characters or digits)\n",
    "print(check_password(\"ABCD123!@#\"))  # Invalid Password (no lowercase letters)\n",
    "print(check_password(\"abcd12345#\"))  # Invalid Password (no uppercase letters)\n",
    "print(check_password(\"A&baC2*j~a\"))  # Valid Password\n"
   ]
  },
  {
   "cell_type": "code",
   "execution_count": 37,
   "id": "9df0a9f2-6898-45c0-a933-6db5ccd84148",
   "metadata": {},
   "outputs": [],
   "source": []
  },
  {
   "cell_type": "markdown",
   "id": "b6fc902b-2b32-4d73-9f2e-8f2f9a241a61",
   "metadata": {},
   "source": [
    "Q2. Solve the below-given questions using at least one of the following:\n",
    "1. Lambda function\n",
    "2. Filter function\n",
    "3. Map function\n",
    "4. List Comprehension\n",
    "- Check if the string starts with a particular letter.\n",
    "- Check if the string is numeric.\n",
    "- Sort a list of tuples having fruit names and their quantity. [(\"mango\",99),(\"orange\",80), (\"grapes\", 1000)-\n",
    "- Find the squares of numbers from 1 to 10.\n",
    "- Find the cube root of numbers from 1 to 10.\n",
    "- Check if a given number is even.\n",
    "- Filter odd numbers from the given list.\n",
    "-- [1,2,3,4,5,6,7,8,9,10]\n",
    "- Sort a list of integers into positive and negative integers lists.\n",
    "-- [1,2,3,4,5,6,-1,-2,-3,-4,-5,0]"
   ]
  },
  {
   "cell_type": "code",
   "execution_count": 43,
   "id": "0b5eac20-6682-4573-b69e-7b65500f6eb9",
   "metadata": {},
   "outputs": [
    {
     "name": "stdin",
     "output_type": "stream",
     "text": [
      "Please give a string: yfvnbhjf\n",
      "Please give a leeter: b\n"
     ]
    },
    {
     "name": "stdout",
     "output_type": "stream",
     "text": [
      "The given string does not start with the given letter\n"
     ]
    }
   ],
   "source": [
    "#Check if the string starts with a particular letter.\n",
    "#Lambda function used here\n",
    "inp_str= str(input('Please give a string:'))\n",
    "inpt_letter= input('Please give a leeter:')\n",
    "a=lambda str1: 'The given string starts with the given letter' if str1[0]==inpt_letter else 'The given string does not start with the given letter'\n",
    "print(a(inp_str))"
   ]
  },
  {
   "cell_type": "code",
   "execution_count": 63,
   "id": "69d855a3-9382-4b36-bfc4-f0a726c47235",
   "metadata": {},
   "outputs": [
    {
     "name": "stdin",
     "output_type": "stream",
     "text": [
      "Please give a string: hdgf\n"
     ]
    },
    {
     "name": "stdout",
     "output_type": "stream",
     "text": [
      "The given string is not numeric\n"
     ]
    }
   ],
   "source": [
    "#Check if the string is numeric.\n",
    "#Lambda function used here\n",
    "inp_str= str(input('Please give a string:'))\n",
    "\n",
    "check= lambda str_1: 'The given string is numeric' if str_1.isnumeric() else \"The given string is not numeric\"\n",
    "\n",
    "print(check(inp_str))\n"
   ]
  },
  {
   "cell_type": "code",
   "execution_count": 80,
   "id": "e5dead7d-7053-45be-9230-aaad4bbd0743",
   "metadata": {},
   "outputs": [
    {
     "name": "stdout",
     "output_type": "stream",
     "text": [
      "[('orange', 80), ('mango', 99), ('grapes', 1000)]\n"
     ]
    }
   ],
   "source": [
    "#Sort a list of tuples having fruit names and their quantity. [(\"mango\",99),(\"orange\",80), (\"grapes\", 1000)\n",
    "#Lambda function used here\n",
    "\n",
    "fruits = [(\"mango\", 99), (\"orange\", 80), (\"grapes\", 1000)]\n",
    "sorted_fruits = sorted(fruits, key=lambda x: x[1])\n",
    "print(sorted_fruits)\n"
   ]
  },
  {
   "cell_type": "code",
   "execution_count": 45,
   "id": "42ae87d4-2dfb-4d12-af1d-a673b71f94f3",
   "metadata": {},
   "outputs": [
    {
     "name": "stdout",
     "output_type": "stream",
     "text": [
      "1\n",
      "4\n",
      "9\n",
      "16\n",
      "25\n",
      "36\n",
      "49\n",
      "64\n",
      "81\n",
      "100\n"
     ]
    }
   ],
   "source": [
    "# Find the squares of numbers from 1 to 10\n",
    "#Lambda and map function used here\n",
    "l=[i for i in range(1,11)]\n",
    "sqr=map(lambda i:i*i,l)\n",
    "for i in sqr:\n",
    "    print(i, end='\\n')"
   ]
  },
  {
   "cell_type": "code",
   "execution_count": 44,
   "id": "5db1e9fa-ff51-4b16-83e6-eb6935d7a6e7",
   "metadata": {},
   "outputs": [
    {
     "name": "stdout",
     "output_type": "stream",
     "text": [
      "1.0\n",
      "1.2599210498948732\n",
      "1.4422495703074083\n",
      "1.5874010519681994\n",
      "1.7099759466766968\n",
      "1.8171205928321397\n",
      "1.912931182772389\n",
      "2.0\n",
      "2.080083823051904\n",
      "2.154434690031884\n"
     ]
    }
   ],
   "source": [
    "#Find the cube root of numbers from 1 to 10.\n",
    "#Lambda and map function used here\n",
    "l=[i for i in range(1,11)]\n",
    "cube_root=map(lambda i:i**(1/3),l)\n",
    "for i in cube_root:\n",
    "    print(i, end='\\n')\n"
   ]
  },
  {
   "cell_type": "code",
   "execution_count": 36,
   "id": "31f06f7c-0c58-48a9-b800-94464a9d04f4",
   "metadata": {},
   "outputs": [
    {
     "name": "stdin",
     "output_type": "stream",
     "text": [
      "Please give a number: 34567892\n"
     ]
    },
    {
     "name": "stdout",
     "output_type": "stream",
     "text": [
      "The given number is even\n"
     ]
    }
   ],
   "source": [
    "#Check if a given number is even.\n",
    "#Lambda function used here\n",
    "number= int(input('Please give a number:'))\n",
    "p= lambda number: 'The given number is even' if number%2==0  else 'The number is not even'\n",
    "print(p(number))"
   ]
  },
  {
   "cell_type": "code",
   "execution_count": 82,
   "id": "bcb2b064-77db-4177-8123-5bdb323f9476",
   "metadata": {},
   "outputs": [
    {
     "name": "stdout",
     "output_type": "stream",
     "text": [
      "[1, 3, 5, 7, 9]\n"
     ]
    }
   ],
   "source": [
    "#Filter odd numbers from the given list. -- [1,2,3,4,5,6,7,8,9,10]\n",
    "#filter function used\n",
    "\n",
    "def odd_number(n):\n",
    "    return n%2==1\n",
    "\n",
    "#given list\n",
    "lst= [1,2,3,4,5,6,7,8,9,10]\n",
    "\n",
    "#filter function\n",
    "\n",
    "new_lst=list(filter(odd_number,lst))\n",
    "print(new_lst)\n"
   ]
  },
  {
   "cell_type": "code",
   "execution_count": 81,
   "id": "deb9eb64-6204-4b6c-a136-8e1665e947bb",
   "metadata": {},
   "outputs": [
    {
     "name": "stdout",
     "output_type": "stream",
     "text": [
      "[1, 2, 3, 4, 5, 6]\n",
      "[-1, -2, -3, -4, -5]\n"
     ]
    }
   ],
   "source": [
    "#Sort a list of integers into positive and negative integers lists. -- [1,2,3,4,5,6,-1,-2,-3,-4,-5,0]\n",
    "\n",
    "lst=[1,2,3,4,5,6,-1,-2,-3,-4,-5,0]\n",
    "\n",
    "#using List Comprehension\n",
    "# please note that zero is neither a positive integer nor negative integer\n",
    "positive_integer=[i for i in lst if i>0]\n",
    "negative_integer=[i for i in lst if i<0]\n",
    "\n",
    "#printing the output\n",
    "print(positive_integer)\n",
    "print(negative_integer)\n",
    "\n"
   ]
  },
  {
   "cell_type": "code",
   "execution_count": null,
   "id": "ba4173c7-c609-475b-9532-572ec2c9ce1d",
   "metadata": {},
   "outputs": [],
   "source": []
  }
 ],
 "metadata": {
  "kernelspec": {
   "display_name": "Python 3 (ipykernel)",
   "language": "python",
   "name": "python3"
  },
  "language_info": {
   "codemirror_mode": {
    "name": "ipython",
    "version": 3
   },
   "file_extension": ".py",
   "mimetype": "text/x-python",
   "name": "python",
   "nbconvert_exporter": "python",
   "pygments_lexer": "ipython3",
   "version": "3.10.8"
  }
 },
 "nbformat": 4,
 "nbformat_minor": 5
}
