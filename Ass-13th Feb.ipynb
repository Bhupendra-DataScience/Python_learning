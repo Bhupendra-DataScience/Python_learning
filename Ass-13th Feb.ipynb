{
 "cells": [
  {
   "cell_type": "markdown",
   "id": "82b03718-f2ad-4084-b095-e2fb7c831c06",
   "metadata": {},
   "source": [
    "Question 1- Explain why we have to use the Exception class while creating a Custom Exception."
   ]
  },
  {
   "cell_type": "markdown",
   "id": "a65d0254-5c78-4776-bf60-42ccdd1ff84a",
   "metadata": {},
   "source": [
    "Answer- When creating a custom exception, it is essential to use the Exception class because it is the base class for all built-in and user-defined exceptions in Python.\n",
    "\n",
    "By inheriting from the Exception class, you can create your own specialized exception type that can be raised when an error condition occurs in your program. When you raise your custom exception, Python will recognize it as an instance of the Exception class and handle it accordingly.\n",
    "\n",
    "In addition, using the Exception class as the base class provides several benefits, such as:\n",
    "\n",
    "Consistency: By using the Exception class as the base class for your custom exceptions, you ensure consistency with the built-in exceptions in Python.\n",
    "\n",
    "Clearer code: Using a standard base class makes your code more readable and easier to understand for other developers who may work on your codebase.\n",
    "\n",
    "Robustness: Since the Exception class provides a set of methods and attributes that make it easier to handle exceptions, using it as a base class helps to make your custom exceptions more robust and reliable.\n",
    "\n",
    "Therefore, when creating custom exceptions in Python, it is recommended to use the Exception class as the base class to ensure that your exceptions are consistent, clear, and robust"
   ]
  },
  {
   "cell_type": "markdown",
   "id": "82bfdfb7-3a44-4f56-91fb-0e654e7da971",
   "metadata": {},
   "source": [
    " "
   ]
  },
  {
   "cell_type": "markdown",
   "id": "1501ee8d-3fd3-47ec-a983-063c70d2b378",
   "metadata": {},
   "source": [
    " "
   ]
  },
  {
   "cell_type": "markdown",
   "id": "85cb44ea-2ec2-4275-9c2b-d49f210ee9c6",
   "metadata": {},
   "source": [
    " "
   ]
  },
  {
   "cell_type": "markdown",
   "id": "9a23fa84-dc41-44f1-92c5-14c5af11a6ef",
   "metadata": {},
   "source": [
    "Question 2. Write a python program to print Python Exception Hierarchy."
   ]
  },
  {
   "cell_type": "markdown",
   "id": "d8e0ca53-a724-4493-aec5-f62752053790",
   "metadata": {},
   "source": [
    "Answer- Below is the python program "
   ]
  },
  {
   "cell_type": "code",
   "execution_count": 1,
   "id": "e8be6a31-8760-4d71-a85c-0688a6d90b66",
   "metadata": {},
   "outputs": [
    {
     "name": "stdout",
     "output_type": "stream",
     "text": [
      " Exception\n",
      "  BaseException\n",
      "   object\n"
     ]
    }
   ],
   "source": [
    "# Python program to print Python Exception Hierarchy\n",
    "\n",
    "# Define a function to print the exception hierarchy\n",
    "def print_exception_hierarchy(exception_class, level=0):\n",
    "    # Print the exception class name with appropriate indentation\n",
    "    print(\" \" * level, exception_class.__name__)\n",
    "\n",
    "    # Recursively print the parent classes (base classes)\n",
    "    for base_class in exception_class.__bases__:\n",
    "        print_exception_hierarchy(base_class, level + 1)\n",
    "\n",
    "# Call the function with the base Exception class\n",
    "print_exception_hierarchy(Exception)\n"
   ]
  },
  {
   "cell_type": "markdown",
   "id": "a0188915-20e0-4b54-a862-3ef2a117a8ba",
   "metadata": {},
   "source": [
    " "
   ]
  },
  {
   "cell_type": "markdown",
   "id": "444296a1-f51a-4891-a2d6-e470974cc4d5",
   "metadata": {},
   "source": [
    "  "
   ]
  },
  {
   "cell_type": "markdown",
   "id": "f73d7630-0f0f-4b74-aa2e-1a675868f5fc",
   "metadata": {},
   "source": [
    "  "
   ]
  },
  {
   "cell_type": "markdown",
   "id": "09245b3c-2a44-4550-8c51-8831d3d6dba8",
   "metadata": {},
   "source": [
    "Question 3- What errors are defined in the ArithmeticError class? Explain any two with an example."
   ]
  },
  {
   "cell_type": "markdown",
   "id": "b4398d34-0710-4715-b7f1-bae227a3a794",
   "metadata": {},
   "source": [
    "Answer-  The ArithmeticError class is a base class for all errors that occur during arithmetic calculations in Python. It is a subclass of the built-in Exception class and is used as a base class for more specific arithmetic exceptions.\n",
    "\n",
    "Some of the errors that are defined in the ArithmeticError class include:\n",
    "\n",
    "ZeroDivisionError: This exception is raised when you try to divide a number by zero. For example"
   ]
  },
  {
   "cell_type": "code",
   "execution_count": 9,
   "id": "64d4aae1-2604-4048-bcb0-15475645a20e",
   "metadata": {},
   "outputs": [
    {
     "name": "stdout",
     "output_type": "stream",
     "text": [
      "Error: division by zero\n"
     ]
    }
   ],
   "source": [
    "try:\n",
    "    x = 10/0\n",
    "except ZeroDivisionError as e:\n",
    "    print(\"Error:\", e)\n"
   ]
  },
  {
   "cell_type": "markdown",
   "id": "1811d51e-ec64-4b10-9e83-e75cdc978b0c",
   "metadata": {},
   "source": [
    "ValueError: This exception is raised when a string is trrying to covert in an integer.\n",
    " \n",
    " For example:"
   ]
  },
  {
   "cell_type": "code",
   "execution_count": 16,
   "id": "7157b20a-7562-453e-a39d-8fa0b40a8fbf",
   "metadata": {},
   "outputs": [
    {
     "name": "stdout",
     "output_type": "stream",
     "text": [
      "Error: invalid literal for int() with base 10: 'abc'\n"
     ]
    }
   ],
   "source": [
    "try:\n",
    "    x = int('abc')\n",
    "except ValueError as e:\n",
    "    print(\"Error:\", e)"
   ]
  },
  {
   "cell_type": "markdown",
   "id": "a7c2a799-918a-4d85-a69a-f35b8f95b962",
   "metadata": {},
   "source": [
    " "
   ]
  },
  {
   "cell_type": "markdown",
   "id": "df815f73-5ffc-4c82-921f-42124d8b85d7",
   "metadata": {},
   "source": [
    " "
   ]
  },
  {
   "cell_type": "markdown",
   "id": "6f20a810-9041-4cc0-ae33-220123df9c57",
   "metadata": {},
   "source": [
    " "
   ]
  },
  {
   "cell_type": "markdown",
   "id": "ed7ae688-7b65-4dce-8a97-2b2e81171e6b",
   "metadata": {},
   "source": [
    "Question 4- Why LookupError class is used? Explain with an example KeyError and IndexError."
   ]
  },
  {
   "cell_type": "markdown",
   "id": "83b9e4cb-d6b5-425f-a675-b263bc3d4468",
   "metadata": {},
   "source": [
    "Answer- The LookupError class is a base class for exceptions that are related to key lookup operations, such as indexing and dictionary key access. This class is used to capture exceptions that occur when trying to access or retrieve data from a collection or mapping object.\n",
    "\n",
    "Two common subclasses of LookupError are KeyError and IndexError, which occur when trying to access an item in a dictionary or a sequence using an invalid key or index.\n",
    "\n",
    "Example 1: KeyError"
   ]
  },
  {
   "cell_type": "code",
   "execution_count": 17,
   "id": "15cdb809-5f55-4b09-8d10-6c279720217f",
   "metadata": {},
   "outputs": [
    {
     "name": "stdout",
     "output_type": "stream",
     "text": [
      "Error: 'd'\n"
     ]
    }
   ],
   "source": [
    "my_dict = {'a': 1, 'b': 2, 'c': 3}\n",
    "\n",
    "try:\n",
    "    value = my_dict['d']\n",
    "except KeyError as e:\n",
    "    print(\"Error:\", e)\n"
   ]
  },
  {
   "cell_type": "markdown",
   "id": "348e7485-02ce-4544-8dbc-662206735155",
   "metadata": {},
   "source": [
    "Example 2: IndexError"
   ]
  },
  {
   "cell_type": "code",
   "execution_count": 18,
   "id": "56220606-5c03-4ba1-952d-6de010c017ef",
   "metadata": {},
   "outputs": [
    {
     "name": "stdout",
     "output_type": "stream",
     "text": [
      "Error: list index out of range\n"
     ]
    }
   ],
   "source": [
    "my_list = [1, 2, 3]\n",
    "\n",
    "try:\n",
    "    value = my_list[3]\n",
    "except IndexError as e:\n",
    "    print(\"Error:\", e)\n"
   ]
  },
  {
   "cell_type": "markdown",
   "id": "2b4545f5-5359-4301-922e-e0409559c24f",
   "metadata": {},
   "source": [
    " "
   ]
  },
  {
   "cell_type": "markdown",
   "id": "0febee5f-b0c4-448a-a77a-9293f2da28cf",
   "metadata": {},
   "source": [
    " "
   ]
  },
  {
   "cell_type": "markdown",
   "id": "0d15295f-f484-49fe-a4d7-de03b25b2aea",
   "metadata": {},
   "source": [
    " "
   ]
  },
  {
   "cell_type": "markdown",
   "id": "50ec963b-7842-4f11-99ea-bc7da5a598bf",
   "metadata": {},
   "source": [
    "Question 5- Explain ImportError. What is ModuleNotFoundError?"
   ]
  },
  {
   "cell_type": "markdown",
   "id": "257cd895-72c1-49ad-beb2-07d3ffb3d576",
   "metadata": {},
   "source": [
    "Answer- ImportError is an exception that occurs when there is an error while importing a module. This can happen when the specified module cannot be found, there are errors in the code of the module being imported, or there is a problem with the environment in which the code is being executed.\n",
    "\n",
    "ModuleNotFoundError is a subclass of ImportError that was introduced in Python 3.6. This exception is raised when the specified module could not be found. It is a more specific version of the ImportError exception and is designed to make it easier to handle import errors caused by missing modules.\n",
    "\n",
    "Here's an example that demonstrates the use of ImportError and ModuleNotFoundError"
   ]
  },
  {
   "cell_type": "code",
   "execution_count": 19,
   "id": "cc78b752-df5e-491c-8f0b-b99d53329a99",
   "metadata": {},
   "outputs": [
    {
     "name": "stdout",
     "output_type": "stream",
     "text": [
      "Import Error: No module named 'non_existent_module'\n",
      "Module Not Found Error: No module named 'non_existent_module'\n"
     ]
    }
   ],
   "source": [
    "try:\n",
    "    import non_existent_module\n",
    "except ImportError as e:\n",
    "    print(\"Import Error:\", e)\n",
    "\n",
    "try:\n",
    "    import non_existent_module\n",
    "except ModuleNotFoundError as e:\n",
    "    print(\"Module Not Found Error:\", e)\n"
   ]
  },
  {
   "cell_type": "markdown",
   "id": "ab5e9aa5-590e-4ce6-8eb3-85a7c7bbabee",
   "metadata": {},
   "source": [
    " "
   ]
  },
  {
   "cell_type": "markdown",
   "id": "cf948695-db41-4a43-a019-22f59971f5d1",
   "metadata": {},
   "source": [
    " "
   ]
  },
  {
   "cell_type": "markdown",
   "id": "bc99073b-2e8d-4b3e-b02b-158a65224849",
   "metadata": {},
   "source": [
    " "
   ]
  },
  {
   "cell_type": "markdown",
   "id": "41f393f5-d246-427f-a498-e81ffa3b1773",
   "metadata": {},
   "source": [
    "Question 6- List down some best practices for exception handling in python."
   ]
  },
  {
   "cell_type": "markdown",
   "id": "b78cca18-daaa-4a98-8d1a-94f09fb0bcf4",
   "metadata": {},
   "source": [
    "Answer- Here are some best practices for exception handling in Python:\n",
    "\n",
    "1. Use specific exception types: Use specific exception types to handle different types of exceptions. This helps in identifying the root cause of the exception and taking appropriate action. It also prevents catching and handling exceptions that you are not prepared to handle.\n",
    "\n",
    "2. Use try-except blocks sparingly: Try to use try-except blocks only where necessary. Do not use them for flow control or to handle expected errors. Instead, use conditional statements or other control structures to avoid raising exceptions in the first place.\n",
    "\n",
    "3. Handle exceptions at the appropriate level: Handle exceptions at the appropriate level in your code. For example, if an exception occurs in a lower-level function, catch and handle it at that level instead of propagating it up to the higher-level function. This helps in improving the readability and maintainability of your code.\n",
    "\n",
    "4. Be specific with exception messages: Provide specific and meaningful error messages when raising or catching exceptions. This helps in understanding the cause of the exception and taking appropriate action.\n",
    "\n",
    "5. Avoid catching generic exceptions: Avoid catching generic exceptions like Exception or BaseException as they can catch unexpected errors and make debugging more difficult.\n",
    "\n",
    "6. Use finally block for cleanup: Use the finally block for cleanup code that needs to be executed whether an exception is raised or not. For example, closing file handles or releasing resources should be done in the finally block.\n",
    "\n",
    "7. Log exceptions: Use a logging library to log exceptions and error messages. This helps in debugging and maintaining your code.\n",
    "\n",
    "8. Test exception handling: Test your exception handling code to ensure that it works as expected and handles different types of exceptions correctly"
   ]
  },
  {
   "cell_type": "code",
   "execution_count": null,
   "id": "09437972-79b5-48a5-8ceb-c227963aa956",
   "metadata": {},
   "outputs": [],
   "source": []
  }
 ],
 "metadata": {
  "kernelspec": {
   "display_name": "Python 3 (ipykernel)",
   "language": "python",
   "name": "python3"
  },
  "language_info": {
   "codemirror_mode": {
    "name": "ipython",
    "version": 3
   },
   "file_extension": ".py",
   "mimetype": "text/x-python",
   "name": "python",
   "nbconvert_exporter": "python",
   "pygments_lexer": "ipython3",
   "version": "3.10.8"
  }
 },
 "nbformat": 4,
 "nbformat_minor": 5
}
