{
 "cells": [
  {
   "cell_type": "markdown",
   "id": "3042a683-2b58-401e-a91b-4dcabf858652",
   "metadata": {},
   "source": [
    "Question 1 - Which keyword is used to create a function? Create a function to return a list of odd numbers in the\n",
    "range of 1 to 25."
   ]
  },
  {
   "cell_type": "markdown",
   "id": "12bce492-df2f-409a-8ecd-6ff8b566f7b3",
   "metadata": {},
   "source": [
    "Answer- The keyword used to create a function in Python is def. \n",
    "\n",
    "Below is the function return a list of odd numbers in the range of 1 to 25."
   ]
  },
  {
   "cell_type": "code",
   "execution_count": 6,
   "id": "39310a9d-d4e8-4b53-87fb-894453716400",
   "metadata": {},
   "outputs": [
    {
     "data": {
      "text/plain": [
       "[1, 3, 5, 7, 9, 11, 13, 15, 17, 19, 21, 23, 25]"
      ]
     },
     "execution_count": 6,
     "metadata": {},
     "output_type": "execute_result"
    }
   ],
   "source": [
    "#the function return a list of odd numbers in the range of 1 to 25.\n",
    "def Get_odd_number():\n",
    "    lst=[]\n",
    "    for i in range(1,26):\n",
    "        if i%2!=0:\n",
    "            lst.append(i)\n",
    "    return lst  \n",
    "\n",
    "Get_odd_number()\n"
   ]
  },
  {
   "cell_type": "markdown",
   "id": "296fad00-dcf3-4c70-8c9d-13a941d90226",
   "metadata": {},
   "source": [
    "  "
   ]
  },
  {
   "cell_type": "markdown",
   "id": "3820612c-f08e-4d61-8366-03b0bacaaf62",
   "metadata": {},
   "source": [
    "  "
   ]
  },
  {
   "cell_type": "markdown",
   "id": "d4eabe21-afa7-4f11-8e96-df06e4dc126e",
   "metadata": {},
   "source": [
    " "
   ]
  },
  {
   "cell_type": "markdown",
   "id": "8ee41b7b-2800-41f3-ab13-478f8b2b78c8",
   "metadata": {},
   "source": [
    "Question 2- Why *args and **kwargs is used in some functions? Create a function each for *args and **kwargs to\n",
    "demonstrate their use."
   ]
  },
  {
   "cell_type": "markdown",
   "id": "4e499498-2251-4d72-9a20-a85b42cfd805",
   "metadata": {},
   "source": [
    "Answer-  *args and **kwargs are used in Python functions to allow for a variable number of arguments to be passed to the function.\n",
    "\n",
    "*args is used to pass a variable number of non-keyword arguments to a function, while **kwargs is used to pass a variable number of keyword arguments to a function. The * and ** are used to unpack the arguments into the function's parameter list.\n",
    "\n",
    "Here is an example of a function that uses *args:"
   ]
  },
  {
   "cell_type": "code",
   "execution_count": 7,
   "id": "ad840036-8898-4797-ada3-d65729d8d1ab",
   "metadata": {},
   "outputs": [],
   "source": [
    "def concatenate_strings(*args):\n",
    "    result = \"\"\n",
    "    for arg in args:\n",
    "        result += arg\n",
    "    return result\n"
   ]
  },
  {
   "cell_type": "code",
   "execution_count": 9,
   "id": "15a70495-226b-48af-addd-e4617a17150f",
   "metadata": {},
   "outputs": [
    {
     "data": {
      "text/plain": [
       "'bhupendra is trying to switch a job'"
      ]
     },
     "execution_count": 9,
     "metadata": {},
     "output_type": "execute_result"
    }
   ],
   "source": [
    "concatenate_strings('Bhupendra ','is ', 'trying ','to switch a job')"
   ]
  },
  {
   "cell_type": "markdown",
   "id": "cff28230-2afe-4742-900b-4e6f20e2436f",
   "metadata": {},
   "source": [
    "Here is an example of a function that uses **kwargs:"
   ]
  },
  {
   "cell_type": "code",
   "execution_count": 11,
   "id": "09bf5d04-a8cb-4809-81a6-796445ae9c9c",
   "metadata": {},
   "outputs": [
    {
     "name": "stdout",
     "output_type": "stream",
     "text": [
      "Name: Bhupendra\n",
      "age: 27\n",
      "Course: Data Science\n",
      "institute: PW Skills\n"
     ]
    }
   ],
   "source": [
    "def print_student_info(**kwargs):\n",
    "    for key, value in kwargs.items():\n",
    "        print(f\"{key}: {value}\")\n",
    "\n",
    "print_student_info(Name=\"Bhupendra\", age=27, Course=\"Data Science\",institute='PW Skills')"
   ]
  },
  {
   "cell_type": "markdown",
   "id": "3dbb8184-aac8-483f-a7f6-2fdddc292048",
   "metadata": {},
   "source": [
    "  "
   ]
  },
  {
   "cell_type": "markdown",
   "id": "df146de1-6ca6-4fce-93df-402b066d3356",
   "metadata": {},
   "source": [
    " "
   ]
  },
  {
   "cell_type": "markdown",
   "id": "f327b678-62d9-435f-8107-16dd984bd46c",
   "metadata": {},
   "source": [
    "Question 3- What is an iterator in python? Name the method used to initialise the iterator object and the method\n",
    "used for iteration. Use these methods to print the first five elements of the given list [2, 4, 6, 8, 10, 12, 14, 16,\n",
    "18, 20]."
   ]
  },
  {
   "cell_type": "markdown",
   "id": "673c2927-4949-4608-8755-a5382f65399b",
   "metadata": {},
   "source": [
    "Answer- An iterator is an object that implements the iterator protocol, which consists of the __iter__() and __next__() methods. An iterator is an object that can be iterated upon, meaning that you can traverse through all the values.\n",
    "\n",
    "The iter() method is used to initialize an iterator object, and the next() method is used for iteration. The next() method returns the next value from the iterator until there are no more values left to iterate over, at which point a StopIteration exception is raised.\n",
    "\n",
    "Here's an example of how you can use an iterator to print the first five elements of the list [2, 4, 6, 8, 10, 12, 14, 16, 18, 20]:"
   ]
  },
  {
   "cell_type": "code",
   "execution_count": 12,
   "id": "158ed45f-aa18-42da-987a-485aab15f85d",
   "metadata": {},
   "outputs": [
    {
     "name": "stdout",
     "output_type": "stream",
     "text": [
      "2\n",
      "4\n",
      "6\n",
      "8\n",
      "10\n"
     ]
    }
   ],
   "source": [
    "my_list = [2, 4, 6, 8, 10, 12, 14, 16, 18, 20]\n",
    "my_iter = iter(my_list)\n",
    "\n",
    "for i in range(5):\n",
    "    print(next(my_iter))\n"
   ]
  },
  {
   "cell_type": "markdown",
   "id": "ee1ef4b9-84f5-4937-81f0-3b444e03fbad",
   "metadata": {},
   "source": [
    " "
   ]
  },
  {
   "cell_type": "markdown",
   "id": "ecac3f88-73e5-4456-800f-16d436beff41",
   "metadata": {},
   "source": [
    "  "
   ]
  },
  {
   "cell_type": "markdown",
   "id": "79b4ad04-f618-4134-9762-cd0da12bd231",
   "metadata": {},
   "source": [
    "Question 4- What is a generator function in python? Why yield keyword is used? Give an example of a generator\n",
    "function."
   ]
  },
  {
   "cell_type": "markdown",
   "id": "fc853552-0430-439b-b8ae-4bbcf1984d22",
   "metadata": {},
   "source": [
    "Answer- A generator function in Python is a special type of function that generates a sequence of values using the yield keyword, instead of returning a value like a normal function. The main difference between a generator function and a normal function is that a generator function preserves its state between successive calls, allowing it to resume where it left off.\n",
    "\n",
    "The yield keyword is used in a generator function to temporarily pause the function and return a value to the caller. The generator function's state is saved so that it can resume where it left off when the function is called again.\n",
    "\n",
    "Here's an example of a simple generator function that generates a sequence of even numbers:"
   ]
  },
  {
   "cell_type": "code",
   "execution_count": 28,
   "id": "fcf9c0f5-21f8-43c7-ba99-28453ff9472b",
   "metadata": {},
   "outputs": [],
   "source": [
    "# Generator function\n",
    "def even_numbers(n):\n",
    "    i = 2\n",
    "    while i < n:\n",
    "        if i%2==0:\n",
    "            yield i\n",
    "        i += 1\n"
   ]
  },
  {
   "cell_type": "code",
   "execution_count": 29,
   "id": "c396b12f-d66b-4ac6-ab18-0384915cc90c",
   "metadata": {},
   "outputs": [
    {
     "name": "stdin",
     "output_type": "stream",
     "text": [
      " 8\n"
     ]
    },
    {
     "name": "stdout",
     "output_type": "stream",
     "text": [
      "2\n",
      "4\n",
      "6\n"
     ]
    }
   ],
   "source": [
    "for i in even_numbers(int(input())):\n",
    "    print(i)"
   ]
  },
  {
   "cell_type": "markdown",
   "id": "d3807db7-39ce-4dac-bacb-c9ffa89f5deb",
   "metadata": {},
   "source": [
    "  "
   ]
  },
  {
   "cell_type": "markdown",
   "id": "c0524525-3464-4f6a-a847-d192d657b280",
   "metadata": {},
   "source": [
    "  "
   ]
  },
  {
   "cell_type": "markdown",
   "id": "61321f4a-2930-4d24-81a7-5a38ec75f83a",
   "metadata": {},
   "source": [
    " "
   ]
  },
  {
   "cell_type": "markdown",
   "id": "8be4b401-b88c-43ba-bc1a-031b720b59fa",
   "metadata": {},
   "source": [
    "Question 5- Create a generator function for prime numbers less than 1000. Use the next() method to print the\n",
    "first 20 prime numbers."
   ]
  },
  {
   "cell_type": "code",
   "execution_count": 42,
   "id": "d55e78c2-26d9-44bf-b06d-5c054ddfcfb4",
   "metadata": {},
   "outputs": [],
   "source": [
    "def primes():\n",
    "    sieve = [True] * 1000\n",
    "    sieve[0] = sieve[1] = False\n",
    "    for i in range(2, int(1000 ** 0.5) + 1):\n",
    "        if sieve[i]:\n",
    "            for j in range(i * i, 1000, i):\n",
    "                sieve[j] = False\n",
    "    for i in range(2, 1000):\n",
    "        if sieve[i]:\n",
    "            yield i\n",
    "            "
   ]
  },
  {
   "cell_type": "code",
   "execution_count": 43,
   "id": "2b3ca30b-a595-4887-bd76-c92d4c5b41d9",
   "metadata": {},
   "outputs": [
    {
     "name": "stdout",
     "output_type": "stream",
     "text": [
      "2\n",
      "3\n",
      "5\n",
      "7\n",
      "11\n",
      "13\n",
      "17\n",
      "19\n",
      "23\n",
      "29\n",
      "31\n",
      "37\n",
      "41\n",
      "43\n",
      "47\n",
      "53\n",
      "59\n",
      "61\n",
      "67\n",
      "71\n"
     ]
    }
   ],
   "source": [
    "generator = primes()\n",
    "for i in range(20):\n",
    "    print(next(generator))\n"
   ]
  },
  {
   "cell_type": "code",
   "execution_count": null,
   "id": "d0a36112-d3f7-4053-97ce-abf340103891",
   "metadata": {},
   "outputs": [],
   "source": []
  }
 ],
 "metadata": {
  "kernelspec": {
   "display_name": "Python 3 (ipykernel)",
   "language": "python",
   "name": "python3"
  },
  "language_info": {
   "codemirror_mode": {
    "name": "ipython",
    "version": 3
   },
   "file_extension": ".py",
   "mimetype": "text/x-python",
   "name": "python",
   "nbconvert_exporter": "python",
   "pygments_lexer": "ipython3",
   "version": "3.10.8"
  }
 },
 "nbformat": 4,
 "nbformat_minor": 5
}
