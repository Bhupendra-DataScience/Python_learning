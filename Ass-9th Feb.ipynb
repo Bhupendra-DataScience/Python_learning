{
 "cells": [
  {
   "cell_type": "markdown",
   "id": "48a2dead-609f-42e6-ae99-5a9b69d6f735",
   "metadata": {},
   "source": [
    "Question 1- Create a vehicle class with an init method having instance variables as name_of_vehicle, max_speed\n",
    "and average_of_vehicle."
   ]
  },
  {
   "cell_type": "code",
   "execution_count": 23,
   "id": "b2b75a4c-9c5b-44f1-860e-da0aba8a0594",
   "metadata": {},
   "outputs": [],
   "source": [
    "class vehicle:\n",
    "    def __init__(self,name_of_vehicle, max_speed, average_of_vehicle):\n",
    "        self.name_of_vehicle=name_of_vehicle\n",
    "        self.max_speed=max_speed\n",
    "        self.average_of_vehicle=average_of_vehicle"
   ]
  },
  {
   "cell_type": "code",
   "execution_count": 24,
   "id": "78f77324-b88f-49e1-8731-fb37a5c1385c",
   "metadata": {},
   "outputs": [],
   "source": [
    "Nexa=vehicle('Baleno',120,65)"
   ]
  },
  {
   "cell_type": "code",
   "execution_count": 26,
   "id": "5c0357cf-20c1-4c38-a240-10812ee2e846",
   "metadata": {},
   "outputs": [
    {
     "data": {
      "text/plain": [
       "'Baleno'"
      ]
     },
     "execution_count": 26,
     "metadata": {},
     "output_type": "execute_result"
    }
   ],
   "source": [
    "Nexa.name_of_vehicle"
   ]
  },
  {
   "cell_type": "markdown",
   "id": "696ee173-910b-4163-bf0c-382a9693bfff",
   "metadata": {},
   "source": []
  },
  {
   "cell_type": "code",
   "execution_count": null,
   "id": "1c0a7c3d-9efc-4a22-8e90-abd5b426a42c",
   "metadata": {},
   "outputs": [],
   "source": []
  },
  {
   "cell_type": "markdown",
   "id": "c377771f-01d6-4ded-a7da-53b5c78ce0ab",
   "metadata": {},
   "source": [
    "Question-2 Create a child class car from the vehicle class created in Que 1, which will inherit the vehicle class.\n",
    "Create a method named seating_capacity which takes capacity as an argument and returns the name of\n",
    "the vehicle and its seating capacity."
   ]
  },
  {
   "cell_type": "code",
   "execution_count": 32,
   "id": "8ca61979-3405-4192-ae95-8c7c9fd281a6",
   "metadata": {},
   "outputs": [],
   "source": [
    "class car(vehicle): #inherited the vehicle class\n",
    "    def seating_capacity(self,capacity):\n",
    "        self.capacity=capacity\n",
    "        return f\"{self.name_of_vehicle} has a seating capacity of {self.capacity} people.\""
   ]
  },
  {
   "cell_type": "code",
   "execution_count": 33,
   "id": "6d8daeb4-f980-4127-b7b1-4b0cea6174ad",
   "metadata": {},
   "outputs": [],
   "source": [
    "Maruti=car('Baleno',120,65)"
   ]
  },
  {
   "cell_type": "code",
   "execution_count": 34,
   "id": "4a09a769-15f9-4803-850a-6e24ed4bd1c6",
   "metadata": {},
   "outputs": [
    {
     "data": {
      "text/plain": [
       "'Baleno has a seating capacity of 4 people.'"
      ]
     },
     "execution_count": 34,
     "metadata": {},
     "output_type": "execute_result"
    }
   ],
   "source": [
    "Maruti.seating_capacity(4)"
   ]
  },
  {
   "cell_type": "code",
   "execution_count": null,
   "id": "9d7eb0ce-563d-4a04-8863-8c5244a4c371",
   "metadata": {},
   "outputs": [],
   "source": []
  },
  {
   "cell_type": "code",
   "execution_count": null,
   "id": "452f121f-e5a2-417e-a5a2-267f7f3d7c91",
   "metadata": {},
   "outputs": [],
   "source": []
  },
  {
   "cell_type": "markdown",
   "id": "ac3f1653-8e50-453a-807a-a916650e3773",
   "metadata": {},
   "source": [
    "Question 3- What is multiple inheritance? Write a python code to demonstrate multiple inheritance."
   ]
  },
  {
   "cell_type": "markdown",
   "id": "5e8e46d6-279a-4107-8263-a6cbce094f60",
   "metadata": {},
   "source": [
    "Answer- Multiple inheritance is a feature of object-oriented programming where a class can inherit from more than one parent class. This allows the child class to inherit the attributes and methods from both parent classes.\n",
    "\n",
    "Here's an example code to demonstrate multiple inheritance"
   ]
  },
  {
   "cell_type": "code",
   "execution_count": 55,
   "id": "5f9ce473-8fb4-442c-a1c9-cf25ef7bd5d3",
   "metadata": {},
   "outputs": [],
   "source": [
    "class class1:\n",
    "    def test1(self):\n",
    "        print('This is from class 1')\n",
    "        \n",
    "class class2:\n",
    "    def test2(self):\n",
    "        print('This is from class 2')\n",
    "        \n",
    "#multiple inheritance, class3 inherit both class1 and class2\n",
    "class class3(class1,class2):\n",
    "    def test3(self):\n",
    "        print('This is from class 3')\n",
    "        "
   ]
  },
  {
   "cell_type": "code",
   "execution_count": 56,
   "id": "b6b06ad0-4952-481a-b00b-83830466e617",
   "metadata": {},
   "outputs": [
    {
     "name": "stdout",
     "output_type": "stream",
     "text": [
      "This is from class 1\n",
      "This is from class 2\n",
      "This is from class 3\n"
     ]
    }
   ],
   "source": [
    "obj_check=class3()\n",
    "obj_check.test1()\n",
    "obj_check.test2()\n",
    "obj_check.test3()"
   ]
  },
  {
   "cell_type": "markdown",
   "id": "8b88b49c-f320-435a-91a4-2f37926af132",
   "metadata": {},
   "source": [
    "In this example, we have three classes: class1, class2, and class3. Class1 has a method named test1, class2 has a method named test2, and class3 inherits from both class1 and class2. Class3 also has its own method named test3.\n",
    "\n",
    "When we create an object of class3 and call its methods, it will be able to access the methods of both class1 and class2, as well as its own method test3. This is an example of multiple inheritance, where a child class inherits from two or more parent classes."
   ]
  },
  {
   "cell_type": "code",
   "execution_count": null,
   "id": "0f80aff2-664f-4de5-a71b-e65b9e380356",
   "metadata": {},
   "outputs": [],
   "source": []
  },
  {
   "cell_type": "markdown",
   "id": "dc4b81ec-db5a-4655-8d3b-067a3a6cc91c",
   "metadata": {},
   "source": [
    "Question4- What are getter and setter in python? Create a class and create a getter and a setter method in this\n",
    "class."
   ]
  },
  {
   "cell_type": "markdown",
   "id": "25aff348-d695-4ef1-8f0c-dc4230b49564",
   "metadata": {},
   "source": [
    "Answer-  getters and setters are special methods used to access and modify the attributes of a class. These methods provide a layer of abstraction between the user and the class, allowing the class to maintain data integrity and providing additional functionality if required.\n",
    "\n",
    "Here's an example class with a getter and a setter method:"
   ]
  },
  {
   "cell_type": "code",
   "execution_count": 59,
   "id": "98c7621e-7b7d-44f8-895f-9fce2d0e7581",
   "metadata": {},
   "outputs": [
    {
     "name": "stdout",
     "output_type": "stream",
     "text": [
      "John\n",
      "Alice\n",
      "25\n",
      "Age cannot be negative or zero.\n",
      "30\n"
     ]
    }
   ],
   "source": [
    "class Person_details:\n",
    "    def __init__(self, name, age):\n",
    "        self.name = name\n",
    "        self.age = age\n",
    "    \n",
    "    def get_name(self):\n",
    "        return self.name\n",
    "    \n",
    "    def set_name(self, name):\n",
    "        self.name = name\n",
    "        \n",
    "    def get_age(self):\n",
    "        return self.age\n",
    "    \n",
    "    def set_age(self, age):\n",
    "        if age > 0:\n",
    "            self.age = age\n",
    "        else:\n",
    "            print(\"Age cannot be negative or zero.\")\n",
    "            \n",
    "# Create an object of the class and call its getter and setter methods\n",
    "p = Person_details(\"John\", 25)\n",
    "print(p.get_name())  # Output: John\n",
    "p.set_name(\"Alice\")\n",
    "print(p.get_name())  # Output: Alice\n",
    "\n",
    "print(p.get_age())   # Output: 25\n",
    "p.set_age(-5)        # Output: Age cannot be negative or zero.\n",
    "p.set_age(30)\n",
    "print(p.get_age())   # Output: 30\n"
   ]
  },
  {
   "cell_type": "code",
   "execution_count": null,
   "id": "151d9784-6414-4be2-9886-6da87d696120",
   "metadata": {},
   "outputs": [],
   "source": []
  },
  {
   "cell_type": "code",
   "execution_count": null,
   "id": "819eec8d-5131-4875-b1f4-3504f612dd82",
   "metadata": {},
   "outputs": [],
   "source": []
  },
  {
   "cell_type": "markdown",
   "id": "ce978c84-225b-4a48-80cb-057835902fc6",
   "metadata": {},
   "source": [
    "Question 5- What is method overriding in python? Write a python code to demonstrate method overriding."
   ]
  },
  {
   "cell_type": "markdown",
   "id": "f353e30c-2666-411e-abcd-db151874f87b",
   "metadata": {},
   "source": [
    "Answer- Method overriding is a concept in object-oriented programming where a subclass provides its own implementation of a method that is already defined in its parent class. The subclass method must have the same name, same parameters or arguments, and same return type as the parent class method.\n",
    "\n",
    "Here is an example code demonstrating method overriding:"
   ]
  },
  {
   "cell_type": "code",
   "execution_count": 60,
   "id": "ffcd8f1c-c4e9-4f41-97d3-35518195fb4c",
   "metadata": {},
   "outputs": [
    {
     "name": "stdout",
     "output_type": "stream",
     "text": [
      "The animal makes a sound.\n",
      "Meow\n",
      "Woof\n"
     ]
    }
   ],
   "source": [
    "class Animal:\n",
    "    def make_sound(self):\n",
    "        print(\"The animal makes a sound.\")\n",
    "\n",
    "class Cat(Animal):\n",
    "    def make_sound(self):\n",
    "        print(\"Meow\")\n",
    "\n",
    "class Dog(Animal):\n",
    "    def make_sound(self):\n",
    "        print(\"Woof\")\n",
    "\n",
    "a = Animal()\n",
    "a.make_sound()\n",
    "\n",
    "c = Cat()\n",
    "c.make_sound()\n",
    "\n",
    "d = Dog()\n",
    "d.make_sound()\n"
   ]
  },
  {
   "cell_type": "code",
   "execution_count": null,
   "id": "a444ba47-7b3b-433d-a6b2-2f0bfb4d78c2",
   "metadata": {},
   "outputs": [],
   "source": []
  }
 ],
 "metadata": {
  "kernelspec": {
   "display_name": "Python 3 (ipykernel)",
   "language": "python",
   "name": "python3"
  },
  "language_info": {
   "codemirror_mode": {
    "name": "ipython",
    "version": 3
   },
   "file_extension": ".py",
   "mimetype": "text/x-python",
   "name": "python",
   "nbconvert_exporter": "python",
   "pygments_lexer": "ipython3",
   "version": "3.10.8"
  }
 },
 "nbformat": 4,
 "nbformat_minor": 5
}
