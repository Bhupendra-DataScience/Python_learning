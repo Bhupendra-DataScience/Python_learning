{
 "cells": [
  {
   "cell_type": "markdown",
   "id": "b7c59d00-d642-4bc9-a7aa-546d495b90a6",
   "metadata": {},
   "source": [
    "Question 1-  What is MongoDB? Explain non-relational databases in short. In which scenarios it is preferred to use\n",
    "MongoDB over SQL databases?"
   ]
  },
  {
   "cell_type": "markdown",
   "id": "411d79cc-1d96-4077-bdd7-777475b9d736",
   "metadata": {},
   "source": [
    "Answer- MongoDB is a popular open-source document-oriented NoSQL database that stores data in flexible JSON-like documents with dynamic schema. MongoDB is designed to scale horizontally and has a rich set of features that make it an attractive choice for modern web applications that require flexible and scalable data storage.\n",
    "\n",
    "Non-relational databases, or NoSQL databases, are databases that don't use the traditional relational database model based on tables, rows, and columns. Instead, they store data in flexible and schema-less formats such as documents, key-value pairs, or graphs. NoSQL databases are designed to be highly scalable and flexible, which makes them suitable for modern web applications that need to handle large amounts of unstructured or semi-structured data.\n",
    "\n",
    "MongoDB is preferred over SQL databases in scenarios where:\n",
    "\n",
    "The data has a semi-structured or unstructured format, such as social media data, IoT data, or logs.\n",
    "The data model is subject to frequent changes, as MongoDB's dynamic schema can easily adapt to evolving data structures.\n",
    "The application requires high scalability and performance, as MongoDB can easily scale horizontally and handle large amounts of data.\n",
    "The application needs to support geospatial queries, as MongoDB has built-in support for geospatial indexes and queries.\n",
    "The application requires real-time analytics or complex aggregations, as MongoDB's powerful query language and aggregation framework can handle complex queries efficiently.\n",
    "In summary, MongoDB is a popular NoSQL database that offers flexible schema design, horizontal scalability, and powerful query capabilities. It is preferred over SQL databases in scenarios where the data has a semi-structured or unstructured format, the data model is subject to frequent changes, and the application requires high scalability and performance.\n"
   ]
  },
  {
   "cell_type": "markdown",
   "id": "472e0471-88d2-4991-a63b-319f71a4129d",
   "metadata": {},
   "source": [
    "  "
   ]
  },
  {
   "cell_type": "markdown",
   "id": "abd54af6-fb5e-4e92-80be-b72e80deb529",
   "metadata": {},
   "source": [
    "  "
   ]
  },
  {
   "cell_type": "markdown",
   "id": "c6902b5b-338f-4766-84bc-c960ccc5082e",
   "metadata": {},
   "source": [
    "Question 2- State and Explain the features of MongoDB."
   ]
  },
  {
   "cell_type": "markdown",
   "id": "63eb12b9-9d70-439b-b728-492aff18a04c",
   "metadata": {},
   "source": [
    "Answer- MongoDB is a popular NoSQL database that offers a number of features that make it an attractive choice for modern web applications. Some of the key features of MongoDB are:\n",
    "\n",
    "1. Document-Oriented: MongoDB stores data in flexible, JSON-like documents that can contain nested sub-documents and arrays. This makes it easy to represent complex relationships between data objects and avoids the need to define rigid schemas upfront.\n",
    "\n",
    "2. Schema-Free: MongoDB doesn't enforce any predefined schema for the documents stored in it. This means that you can easily add, remove or modify fields in the documents as needed, without having to modify the schema.\n",
    "\n",
    "3. High Performance: MongoDB is designed to deliver high performance in both read and write operations. It uses memory-mapped files to keep frequently accessed data in memory, and supports indexing for efficient querying.\n",
    "\n",
    "4. Horizontal Scalability: MongoDB can scale horizontally across multiple servers, which makes it suitable for handling large amounts of data and high traffic loads.\n",
    "\n",
    "5. Rich Query Language: MongoDB provides a powerful query language that supports rich and complex queries on both individual documents and collections of documents.\n",
    "\n",
    "6. Aggregation Framework: MongoDB provides a flexible and powerful aggregation framework that allows you to perform complex data analysis and aggregation operations.\n",
    "\n",
    "7. Automatic Sharding: MongoDB provides automatic sharding, which allows you to partition data across multiple servers and scale horizontally with ease.\n",
    "\n",
    "8. Replication and Fault Tolerance: MongoDB provides replication and fault tolerance features that ensure high availability and data durability even in the event of hardware failures.\n",
    "\n",
    "In summary, MongoDB offers a rich set of features that make it an attractive choice for modern web applications. Its document-oriented approach, schema-free design, high performance, horizontal scalability, rich query language, and fault tolerance features make it a powerful database solution for handling large amounts of data and high traffic loads"
   ]
  },
  {
   "cell_type": "markdown",
   "id": "ce182f6a-ae16-415b-9f46-2db534d58407",
   "metadata": {},
   "source": [
    " "
   ]
  },
  {
   "cell_type": "markdown",
   "id": "28cf552d-abf9-460d-a557-00a223f0d5ea",
   "metadata": {},
   "source": [
    " "
   ]
  },
  {
   "cell_type": "markdown",
   "id": "3925e7bd-3a0d-474d-9110-3bc33726785e",
   "metadata": {},
   "source": [
    " "
   ]
  },
  {
   "cell_type": "markdown",
   "id": "3600fc1d-06ca-4b01-b276-befd9721d9a1",
   "metadata": {},
   "source": [
    "Question 3-  Write a code to connect MongoDB to Python. Also, create a database and a collection in MongoDB."
   ]
  },
  {
   "cell_type": "markdown",
   "id": "81fec49e-8c63-45e4-a52d-1b15d2569972",
   "metadata": {},
   "source": [
    "Answer- To connect MongoDB to Python, one will need to install the pymongo package. Here's a code snippet that demonstrates how to connect to MongoDB and create a database and collection using Python:"
   ]
  },
  {
   "cell_type": "code",
   "execution_count": 1,
   "id": "ff7cbcb9-1187-45b5-82bd-5e7b4dc14d77",
   "metadata": {},
   "outputs": [
    {
     "ename": "ModuleNotFoundError",
     "evalue": "No module named 'pymongo'",
     "output_type": "error",
     "traceback": [
      "\u001b[0;31m---------------------------------------------------------------------------\u001b[0m",
      "\u001b[0;31mModuleNotFoundError\u001b[0m                       Traceback (most recent call last)",
      "Cell \u001b[0;32mIn[1], line 1\u001b[0m\n\u001b[0;32m----> 1\u001b[0m \u001b[38;5;28;01mimport\u001b[39;00m \u001b[38;5;21;01mpymongo\u001b[39;00m\n\u001b[1;32m      3\u001b[0m \u001b[38;5;66;03m# Connect to MongoDB\u001b[39;00m\n\u001b[1;32m      4\u001b[0m client \u001b[38;5;241m=\u001b[39m pymongo\u001b[38;5;241m.\u001b[39mMongoClient(\u001b[38;5;124m\"\u001b[39m\u001b[38;5;124mmongodb://localhost:27017/\u001b[39m\u001b[38;5;124m\"\u001b[39m)\n",
      "\u001b[0;31mModuleNotFoundError\u001b[0m: No module named 'pymongo'"
     ]
    }
   ],
   "source": [
    "import pymongo\n",
    "\n",
    "# Connect to MongoDB\n",
    "client = pymongo.MongoClient(\"mongodb://localhost:27017/\")\n",
    "\n",
    "# Create a new database called \"mydatabase\"\n",
    "mydb = client[\"mydatabase\"]\n",
    "\n",
    "# Create a new collection called \"customers\"\n",
    "mycol = mydb[\"customers\"]\n",
    "\n",
    "# Insert a new document into the \"customers\" collection\n",
    "mydict = { \"name\": \"John Doe\", \"address\": \"123 Main St\", \"age\": 30 }\n",
    "x = mycol.insert_one(mydict)\n",
    "\n",
    "# Print the ID of the inserted document\n",
    "print(x.inserted_id)\n"
   ]
  },
  {
   "cell_type": "markdown",
   "id": "97deeeba-e45e-41b1-a96a-710586e42d14",
   "metadata": {},
   "source": [
    "This code connects to a MongoDB server running on the local machine on the default port, creates a new database called \"mydatabase\", creates a new collection called \"customers\" within the database, inserts a new document into the collection, and prints the ID of the inserted document.\n",
    "\n",
    "Note that if the \"mydatabase\" database or \"customers\" collection do not already exist in the MongoDB server, they will be created automatically when you insert the first document into the collection."
   ]
  },
  {
   "cell_type": "markdown",
   "id": "c0c6703e-127c-476e-80e1-c6f878b5d166",
   "metadata": {},
   "source": [
    "  "
   ]
  },
  {
   "cell_type": "markdown",
   "id": "54954e20-fa9f-4f60-986b-b1adaf88e8aa",
   "metadata": {},
   "source": [
    " "
   ]
  },
  {
   "cell_type": "markdown",
   "id": "84b46712-dbf1-4de0-a294-94a2f2744fef",
   "metadata": {},
   "source": [
    " "
   ]
  },
  {
   "cell_type": "markdown",
   "id": "7f3381b1-463a-4c06-a096-ee18d3e896cd",
   "metadata": {},
   "source": [
    "Question 4- Using the database and the collection created in question number 3, write a code to insert one record,\n",
    "and insert many records. Use the find() and find_one() methods to print the inserted record."
   ]
  },
  {
   "cell_type": "markdown",
   "id": "493e3b90-a0b3-47d2-a06d-6b5d9fb6f79f",
   "metadata": {},
   "source": [
    "Answer - Here's a code snippet that demonstrates how to insert one record and multiple records into the \"customers\" collection in the \"mydatabase\" database created in question number 3, and how to use the find() and find_one() methods to print the inserted records:"
   ]
  },
  {
   "cell_type": "code",
   "execution_count": null,
   "id": "a0784fc7-062f-404a-8a71-49edb3ece674",
   "metadata": {},
   "outputs": [],
   "source": [
    "import pymongo\n",
    "\n",
    "# Connect to MongoDB\n",
    "client = pymongo.MongoClient(\"mongodb://localhost:27017/\")\n",
    "\n",
    "# Create a new database called \"mydatabase\"\n",
    "mydb = client[\"mydatabase\"]\n",
    "\n",
    "# Create a new collection called \"customers\"\n",
    "mycol = mydb[\"customers\"]\n",
    "\n",
    "# Insert one record into the \"customers\" collection\n",
    "mydict = { \"name\": \"Jane Doe\", \"address\": \"456 Elm St\", \"age\": 25 }\n",
    "x = mycol.insert_one(mydict)\n",
    "\n",
    "# Print the inserted record using the find_one() method\n",
    "print(mycol.find_one({\"_id\": x.inserted_id}))\n",
    "\n",
    "# Insert multiple records into the \"customers\" collection\n",
    "mylist = [\n",
    "  { \"name\": \"Bob Smith\", \"address\": \"789 Oak St\", \"age\": 40 },\n",
    "  { \"name\": \"Sara Johnson\", \"address\": \"321 Pine St\", \"age\": 35 },\n",
    "  { \"name\": \"Tom Wilson\", \"address\": \"555 Maple St\", \"age\": 45 }\n",
    "]\n",
    "x = mycol.insert_many(mylist)\n",
    "\n",
    "# Print the inserted records using the find() method\n",
    "for document in mycol.find():\n",
    "    print(document)\n"
   ]
  },
  {
   "cell_type": "markdown",
   "id": "60faf508-b185-402f-ad58-110a9490c30a",
   "metadata": {},
   "source": [
    "  "
   ]
  },
  {
   "cell_type": "markdown",
   "id": "52763c1c-9182-4705-a0bb-d5ef19fa0901",
   "metadata": {},
   "source": [
    "  "
   ]
  },
  {
   "cell_type": "markdown",
   "id": "8d75f7ee-b50d-43e4-9dd0-fcc1e05fb2c3",
   "metadata": {},
   "source": [
    "  "
   ]
  },
  {
   "cell_type": "markdown",
   "id": "224e1c77-8e06-4541-9f67-44303b6e18fa",
   "metadata": {},
   "source": [
    "Question 5- Explain how you can use the find() method to query the MongoDB database. Write a simple code to\n",
    "demonstrate this."
   ]
  },
  {
   "cell_type": "markdown",
   "id": "bd7086f1-0757-48c6-b060-712e211b8adc",
   "metadata": {},
   "source": [
    "Answer- The find() method is used to query a MongoDB database and retrieve documents that match a specific set of criteria. The find() method takes a query object as its parameter, which specifies the criteria to match against the documents in the collection."
   ]
  },
  {
   "cell_type": "code",
   "execution_count": null,
   "id": "88074d44-b71d-41f8-89c7-b00001eebb3f",
   "metadata": {},
   "outputs": [],
   "source": [
    "import pymongo\n",
    "\n",
    "# Connect to MongoDB\n",
    "client = pymongo.MongoClient(\"mongodb://localhost:27017/\")\n",
    "\n",
    "# Get a reference to the \"mydatabase\" database and \"customers\" collection\n",
    "mydb = client[\"mydatabase\"]\n",
    "mycol = mydb[\"customers\"]\n",
    "\n",
    "# Define the query object\n",
    "query = { \"name\": \"John\" }\n",
    "\n",
    "# Use the find() method to retrieve matching documents\n",
    "results = mycol.find(query)\n",
    "\n",
    "# Print the matching documents\n",
    "for document in results:\n",
    "    print(document)\n"
   ]
  },
  {
   "cell_type": "markdown",
   "id": "84ab9035-e5f5-49e3-a6a5-7db188df400a",
   "metadata": {},
   "source": [
    "  "
   ]
  },
  {
   "cell_type": "markdown",
   "id": "647ce009-4a5b-4253-942e-aee81dc03db4",
   "metadata": {},
   "source": [
    "   "
   ]
  },
  {
   "cell_type": "markdown",
   "id": "756d2198-8bbd-41b0-b5e3-a131ef759a54",
   "metadata": {},
   "source": [
    "  "
   ]
  },
  {
   "cell_type": "markdown",
   "id": "bf18caa0-d3f5-4dd3-8ae1-dbd186d870fb",
   "metadata": {},
   "source": [
    "Question 6- Explain the sort() method. Give an example to demonstrate sorting in MongoDB."
   ]
  },
  {
   "cell_type": "markdown",
   "id": "67f86daa-8355-4e70-a294-9395b0649899",
   "metadata": {},
   "source": [
    "Answer- he sort() method is used to sort the results of a MongoDB query in ascending or descending order based on one or more fields in the documents. The sort() method takes one parameter, which is a dictionary specifying the field or fields to sort on and the sort order.\n",
    "\n",
    "The syntax for the sort() method is as follows:"
   ]
  },
  {
   "cell_type": "code",
   "execution_count": null,
   "id": "ce0a0a5d-12d6-4685-a26c-ac0e740765e4",
   "metadata": {},
   "outputs": [],
   "source": [
    "result = collection.find(query).sort(field, direction)\n"
   ]
  },
  {
   "cell_type": "markdown",
   "id": "cc16f4e6-6d8f-4f80-91af-48ef457524b0",
   "metadata": {},
   "source": [
    "Here's an example to demonstrate sorting in MongoDB. Below in Python program "
   ]
  },
  {
   "cell_type": "code",
   "execution_count": null,
   "id": "bc419d41-ab04-4055-bade-270046655e0b",
   "metadata": {},
   "outputs": [],
   "source": [
    "import pymongo\n",
    "\n",
    "# Connect to MongoDB\n",
    "client = pymongo.MongoClient(\"mongodb://localhost:27017/\")\n",
    "\n",
    "# Get a reference to the \"mydatabase\" database and \"mycollection\" collection\n",
    "mydb = client[\"mydatabase\"]\n",
    "mycol = mydb[\"mycollection\"]\n",
    "\n",
    "# Sort the documents by age in ascending order\n",
    "results = mycol.find().sort(\"age\", pymongo.ASCENDING)\n",
    "\n",
    "# Print the sorted documents\n",
    "for document in results:\n",
    "    print(document)\n"
   ]
  },
  {
   "cell_type": "markdown",
   "id": "113c2a60-715d-44f2-b31a-cb600751ef53",
   "metadata": {},
   "source": [
    " "
   ]
  },
  {
   "cell_type": "markdown",
   "id": "79b5e430-079e-4c4b-bce3-84f6611c30b8",
   "metadata": {},
   "source": [
    " "
   ]
  },
  {
   "cell_type": "markdown",
   "id": "3b9cc8d7-77ef-4be4-bf33-b6038f8dfd4e",
   "metadata": {},
   "source": [
    " "
   ]
  },
  {
   "cell_type": "markdown",
   "id": "f7a35888-382a-4350-b5c4-e9d00802b048",
   "metadata": {},
   "source": [
    "Question 7- Explain why delete_one(), delete_many(), and drop() is used."
   ]
  },
  {
   "cell_type": "markdown",
   "id": "c312cdce-366d-4d78-9c22-3ae342286606",
   "metadata": {},
   "source": [
    "Answer- In MongoDB, the delete_one() and delete_many() methods are used to remove documents from a collection that match a specific set of criteria. The drop() method is used to remove an entire collection from a database.\n",
    "\n",
    "- The delete_one() method is used to remove a single document that matches the specified criteria. If there are multiple documents that match the criteria, only the first matching document will be removed. \n",
    "\n",
    "- The delete_many() method is used to remove all documents that match the specified criteria. \n",
    "\n",
    "- the drop() method is used to remove an entire collection from a database."
   ]
  },
  {
   "cell_type": "code",
   "execution_count": null,
   "id": "e8526f29-4ca0-4cb5-814a-061157be805d",
   "metadata": {},
   "outputs": [],
   "source": []
  }
 ],
 "metadata": {
  "kernelspec": {
   "display_name": "Python 3 (ipykernel)",
   "language": "python",
   "name": "python3"
  },
  "language_info": {
   "codemirror_mode": {
    "name": "ipython",
    "version": 3
   },
   "file_extension": ".py",
   "mimetype": "text/x-python",
   "name": "python",
   "nbconvert_exporter": "python",
   "pygments_lexer": "ipython3",
   "version": "3.10.8"
  }
 },
 "nbformat": 4,
 "nbformat_minor": 5
}
