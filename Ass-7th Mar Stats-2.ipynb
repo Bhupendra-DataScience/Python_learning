{
 "cells": [
  {
   "cell_type": "markdown",
   "id": "847386ce-5536-407d-a005-0eca5a50e4ac",
   "metadata": {},
   "source": [
    "Question 1- What are the three measures of central tendency?"
   ]
  },
  {
   "cell_type": "markdown",
   "id": "13009dc9-d85f-4890-9ec4-8b7a19de4e74",
   "metadata": {},
   "source": [
    "Answer- The three measures of central tendency are:\n",
    "\n",
    "- Mean: It is the sum of all values in a dataset divided by the number of values. It represents the average value of the dataset.\n",
    "\n",
    "- Median: It is the middle value in a dataset when the values are arranged in ascending or descending order. If there is an even number of values, the median is the average of the two middle values.\n",
    "\n",
    "- Mode: It is the value that occurs most frequently in a dataset. If no value occurs more than once, the dataset has no mode."
   ]
  },
  {
   "cell_type": "markdown",
   "id": "3d53364f-c4bb-4e5c-878f-6e5047e0ec61",
   "metadata": {},
   "source": [
    " "
   ]
  },
  {
   "cell_type": "markdown",
   "id": "46a66507-3e8b-4d18-8f7f-efb6cc4bc603",
   "metadata": {},
   "source": [
    " "
   ]
  },
  {
   "cell_type": "markdown",
   "id": "d82feba2-a9be-4664-8aee-7923170b5d99",
   "metadata": {},
   "source": [
    " \n",
    " "
   ]
  },
  {
   "cell_type": "markdown",
   "id": "3caf2545-978d-464e-9420-1156c46a0647",
   "metadata": {},
   "source": [
    "Question 2- What is the difference between the mean, median, and mode? How are they used to measure the\n",
    "central tendency of a dataset?"
   ]
  },
  {
   "cell_type": "markdown",
   "id": "f0bff83d-16ed-4781-a905-2aafef961223",
   "metadata": {},
   "source": [
    "Answer- The mean, median, and mode are all measures of central tendency, but they differ in how they represent the center of a dataset.\n",
    "\n",
    "- The mean is the most common measure of central tendency, and it represents the arithmetic average of all the values in a dataset. To calculate the mean, you add up all the values in the dataset and then divide the sum by the number of values. The mean is sensitive to extreme values or outliers in the data because it takes into account all the values in the dataset.\n",
    "\n",
    "- The median, on the other hand, is the middle value in a dataset when the values are arranged in ascending or descending order. The median is not affected by extreme values or outliers because it only considers the middle value(s) in the dataset. If the dataset has an even number of values, the median is the average of the two middle values.\n",
    "\n",
    "- The mode is the value that occurs most frequently in a dataset. Unlike the mean and median, the mode can be used for both numerical and categorical data. It is useful when you want to find the most common value in a dataset.\n",
    "\n",
    "In summary, the mean, median, and mode are all measures of central tendency that are used to represent the center of a dataset. The mean is the average of all values, the median is the middle value, and the mode is the most common value. The choice of which measure to use depends on the nature of the data and the purpose of the analysis."
   ]
  },
  {
   "cell_type": "markdown",
   "id": "b0bf08ed-e7d6-4b67-baed-587f62287756",
   "metadata": {},
   "source": [
    " "
   ]
  },
  {
   "cell_type": "markdown",
   "id": "a23ea01f-0656-4c07-b718-eafa4bff755f",
   "metadata": {},
   "source": [
    " "
   ]
  },
  {
   "cell_type": "markdown",
   "id": "88b7a2bc-9acf-487b-94e8-ce418f66fb35",
   "metadata": {},
   "source": [
    " "
   ]
  },
  {
   "cell_type": "markdown",
   "id": "25f9e078-13f0-4f37-8f35-0b6a6f2df1f5",
   "metadata": {},
   "source": [
    "Question 3- Measure the three measures of central tendency for the given height data:\n",
    "[178,177,176,177,178.2,178,175,179,180,175,178.9,176.2,177,172.5,178,176.5]"
   ]
  },
  {
   "cell_type": "markdown",
   "id": "ada4cebf-7662-4445-b360-61132ce99104",
   "metadata": {},
   "source": [
    "Answer - To calculate the measures of central tendency for the given height data, we can use the following formulas:\n",
    "\n",
    "Mean = (sum of all values) / (number of values)\n",
    "\n",
    "Median = middle value of the sorted dataset\n",
    "\n",
    "Mode = the value that appears most frequently\n",
    "\n",
    "First, let's sort the data in ascending order:\n",
    "[172.5, 175, 175, 176, 176.2, 176.5, 177, 177, 178, 178, 178, 178.2, 178.9, 179, 180]\n",
    "\n",
    "Now, we can calculate the measures of central tendency:\n",
    "\n",
    "Mean = (sum of all values) / (number of values)\n",
    "Mean = (172.5 + 175 + 175 + 176 + 176.2 + 176.5 + 177 + 177 + 178 + 178 + 178 + 178.2 + 178.9 + 179 + 180) / 15\n",
    "Mean = 177.02\n",
    "\n",
    "Therefore, the mean height is 177.02.\n",
    "\n",
    "Median = middle value of the sorted dataset\n",
    "Since the dataset has an odd number of values, the median is the middle value, which is 177.\n",
    "\n",
    "Therefore, the median height is 177.\n",
    "\n",
    "Mode = the value that appears most frequently\n",
    "The value that appears most frequently is 178.\n",
    "\n",
    "Therefore, the mode height is 178.\n",
    "\n",
    "In summary, the measures of central tendency for the given height data are:\n",
    "\n",
    "Mean: 177.02\n",
    "\n",
    "Median: 177\n",
    "\n",
    "Mode: 178"
   ]
  },
  {
   "cell_type": "code",
   "execution_count": 22,
   "id": "68c8c6bf-33d8-401c-bb70-11bda53dbff8",
   "metadata": {},
   "outputs": [
    {
     "name": "stdout",
     "output_type": "stream",
     "text": [
      "Mean : 177.02 \n",
      "Median :177.0\n",
      "Mode :178\n"
     ]
    }
   ],
   "source": [
    "#lets double check with the help of Python code\n",
    "\n",
    "data= [178, 177, 176, 177 ,178.2 ,178 ,175 ,179 ,180 ,175 ,178.9 ,176.2 ,177 ,172.5,178,176.5]\n",
    "\n",
    "import numpy as np\n",
    "from statistics import mode\n",
    "mean=np.mean(data)\n",
    "median=np.median(data)\n",
    "\n",
    "print (f'Mean : {round(np.mean(data),2)} \\nMedian :{np.median(data)}\\nMode :{mode(data)}')\n"
   ]
  },
  {
   "cell_type": "markdown",
   "id": "26c47f09-7765-49fb-bdbe-404869a2ba10",
   "metadata": {},
   "source": [
    " "
   ]
  },
  {
   "cell_type": "markdown",
   "id": "42978f56-4f3e-4512-9103-0157d54b1c0e",
   "metadata": {},
   "source": [
    "  "
   ]
  },
  {
   "cell_type": "markdown",
   "id": "54712ff6-fda8-4588-84a5-cd7aaedd536d",
   "metadata": {},
   "source": [
    "Question 4- Find the standard deviation for the given data:\n",
    "[178,177,176,177,178.2,178,175,179,180,175,178.9,176.2,177,172.5,178,176.5]"
   ]
  },
  {
   "cell_type": "markdown",
   "id": "942ecd0c-cb84-49b8-b520-bc66145f01ab",
   "metadata": {},
   "source": [
    "Answer- To calculate the standard deviation for the given data, we can use the following formula:\n",
    "\n",
    "- For Population \n",
    "\n",
    "Standard deviation = sqrt((sum of squared deviations from the mean) / (number of values)\n",
    "\n",
    "- For Sample \n",
    "\n",
    "Standard deviation = sqrt((sum of squared deviations from the mean) / (number of values-1)\n",
    "\n",
    "\n",
    "Below is calculated std deviation by using Python code"
   ]
  },
  {
   "cell_type": "code",
   "execution_count": 24,
   "id": "f3b25b25-2d01-448e-9a75-10bc109556a7",
   "metadata": {},
   "outputs": [
    {
     "name": "stdout",
     "output_type": "stream",
     "text": [
      "Standard deviation  of give data :1.7885814036548633\n"
     ]
    }
   ],
   "source": [
    "data1=[178,177,176,177,178.2,178,175,179,180,175,178.9,176.2,177,172.5,178,176.5]\n",
    "\n",
    "import numpy as np\n",
    "\n",
    "print(f'Standard deviation  of give data :{np.std(data1)}')"
   ]
  },
  {
   "cell_type": "markdown",
   "id": "ae9a6d48-49ac-47d7-b2ef-f8c5e58e9647",
   "metadata": {},
   "source": [
    "  "
   ]
  },
  {
   "cell_type": "markdown",
   "id": "e8fa7e80-3165-4e0e-86a8-690d2fae28ef",
   "metadata": {},
   "source": [
    " "
   ]
  },
  {
   "cell_type": "markdown",
   "id": "a37395b9-c03f-4105-8abe-8d1af31466cf",
   "metadata": {},
   "source": [
    "   "
   ]
  },
  {
   "cell_type": "markdown",
   "id": "134fbba2-7dab-4aba-bde1-7c6c9f3b1501",
   "metadata": {},
   "source": [
    "Question 5- How are measures of dispersion such as range, variance, and standard deviation used to describe\n",
    "the spread of a dataset? Provide an example."
   ]
  },
  {
   "cell_type": "markdown",
   "id": "562a5f17-19fe-493f-878e-f9b5db87deab",
   "metadata": {},
   "source": [
    "Answer- Measures of dispersion, such as range, variance, and standard deviation, are used to describe the spread of a dataset by quantifying how much the data values are spread out from each other around the central tendency (mean, median, or mode).\n",
    "\n",
    "The range is the simplest measure of dispersion and represents the difference between the largest and smallest values in the dataset. It provides an indication of the spread of the data but is sensitive to outliers. \n",
    "\n",
    "The variance and standard deviation are more robust measures of dispersion that take into account the differences between each data point and the mean. The variance is the average of the squared differences between each data point and the mean, while the standard deviation is the square root of the variance.\n",
    "\n",
    "An example of how these measures of dispersion can be used is if you were analyzing the heights of students in a class. The range would tell you the difference between the tallest and shortest student. The variance and standard deviation would give you an idea of how much variation there is in height among the students. If the standard deviation was high, it would indicate that there is a wide range of heights among the students."
   ]
  },
  {
   "cell_type": "markdown",
   "id": "b88db595-94dd-40ff-878d-eb3d52f8ddef",
   "metadata": {},
   "source": [
    "  "
   ]
  },
  {
   "cell_type": "markdown",
   "id": "e3660bef-79c0-49f5-a058-6ba080c4aa47",
   "metadata": {},
   "source": [
    "   "
   ]
  },
  {
   "cell_type": "markdown",
   "id": "11867a50-a97f-40ff-84c5-de0c8a176f2e",
   "metadata": {},
   "source": [
    "  "
   ]
  },
  {
   "cell_type": "markdown",
   "id": "34756ef4-b17c-4368-8ca3-69f2c0e04bee",
   "metadata": {},
   "source": [
    "Question 6- What is a Venn diagram?"
   ]
  },
  {
   "cell_type": "markdown",
   "id": "e887b6dc-a0ad-4208-a1a7-b12d3b0b28df",
   "metadata": {},
   "source": [
    "Answer- A Venn diagram is a graphical representation of the relationships between different sets or groups. It is typically drawn as overlapping circles, with each circle representing a set or group, and the overlapping regions representing the intersection between the sets or groups. The Venn diagram is named after the British logician and philosopher John Venn, who first introduced the concept in the late 19th century.\n",
    "\n",
    "Venn diagrams can be used to visualize the similarities and differences between sets or groups, as well as the relationships between them. "
   ]
  },
  {
   "cell_type": "markdown",
   "id": "e9444b08-a393-460b-9539-c4133f62d265",
   "metadata": {},
   "source": [
    "  "
   ]
  },
  {
   "cell_type": "markdown",
   "id": "5b5c0c87-b601-482c-abc7-f47003543fe1",
   "metadata": {},
   "source": [
    "  "
   ]
  },
  {
   "cell_type": "markdown",
   "id": "c334509e-5a08-4273-aec2-c1954704f0f0",
   "metadata": {},
   "source": [
    " "
   ]
  },
  {
   "cell_type": "markdown",
   "id": "22d683b2-6f7e-47d9-b5d3-87e33841cead",
   "metadata": {},
   "source": [
    "Question 7- For the two given sets \n",
    "\n",
    "A = (2,3,4,5,6,7) & B = (0,2,6,8,10). Find:\n",
    "\n",
    "(i) A B\n",
    "\n",
    "(ii) A ⋃ B"
   ]
  },
  {
   "cell_type": "markdown",
   "id": "fe8c6a84-a5ea-4d8c-bdbe-09c4cf5dcc7d",
   "metadata": {},
   "source": [
    "Answer-\n",
    "\n",
    "(i) A intersect B:\n",
    "\n",
    "The elements that are common to both sets A and B are 2 and 6.\n",
    "\n",
    "So A intersect B = {2, 6}\n",
    "\n",
    "(ii) A union B:\n",
    "\n",
    "The union of sets A and B includes all the unique elements from both sets.\n",
    "\n",
    "So A union B = {0, 2, 3, 4, 5, 6, 7, 8, 10}"
   ]
  },
  {
   "cell_type": "code",
   "execution_count": 36,
   "id": "4280a9d0-dfb7-4c19-965a-15fdddce408d",
   "metadata": {},
   "outputs": [
    {
     "name": "stdout",
     "output_type": "stream",
     "text": [
      "A intersect B: {2, 6} \n",
      "A union B: {0, 2, 3, 4, 5, 6, 7, 8, 10}\n"
     ]
    }
   ],
   "source": [
    "A = {2,3,4,5,6,7} \n",
    "B = {0,2,6,8,10}\n",
    "\n",
    "print (f'A intersect B: {A.intersection(B)} \\nA union B: {A.union(B)}')"
   ]
  },
  {
   "cell_type": "markdown",
   "id": "7ab4ffd7-6b96-49ee-bc09-27e5709079c7",
   "metadata": {},
   "source": [
    "   "
   ]
  },
  {
   "cell_type": "markdown",
   "id": "1ae46722-30ea-47e4-9898-dcaa09796e3e",
   "metadata": {},
   "source": [
    " "
   ]
  },
  {
   "cell_type": "markdown",
   "id": "a9ff11fd-76af-46d3-885d-bf068fe8db5a",
   "metadata": {},
   "source": [
    " "
   ]
  },
  {
   "cell_type": "markdown",
   "id": "d67f8913-1d00-471a-9a16-d686efbe2260",
   "metadata": {},
   "source": [
    "Question 8-  What do you understand about skewness in data?"
   ]
  },
  {
   "cell_type": "markdown",
   "id": "34a50050-bf90-482c-939c-c9d1a4a7c1fd",
   "metadata": {},
   "source": [
    "Answer- Skewness is a measure of the asymmetry of a probability distribution. In statistics, a distribution is said to be skewed if it is not symmetric. This means that the distribution has more data points on one side of the center than on the other side.\n",
    "\n",
    "If the distribution has a longer tail on the left-hand side, it is said to be left-skewed or negatively skewed. If the distribution has a longer tail on the right-hand side, it is said to be right-skewed or positively skewed.\n",
    "\n",
    "Skewness can have an impact on the mean, median, and mode of a distribution. In a left-skewed distribution, the mean is less than the median, and the mode is greater than the median. In a right-skewed distribution, the mean is greater than the median, and the mode is less than the median.\n",
    "\n",
    "Skewness is an important aspect of data analysis because it can affect the interpretation of statistical results. In particular, skewed data can lead to biased estimates of central tendency and dispersion. Therefore, it is important to examine the skewness of data before applying statistical methods that assume normality."
   ]
  },
  {
   "cell_type": "markdown",
   "id": "07a78637-cf51-4950-aac2-0cc192012fae",
   "metadata": {},
   "source": [
    "  "
   ]
  },
  {
   "cell_type": "markdown",
   "id": "00ed9b4a-b568-4742-8b9c-1931f71e8a87",
   "metadata": {},
   "source": [
    "  "
   ]
  },
  {
   "cell_type": "markdown",
   "id": "8cd80b50-6092-47bf-8c21-7e9259693670",
   "metadata": {},
   "source": [
    "Question 9- If a data is right skewed then what will be the position of median with respect to mean?"
   ]
  },
  {
   "cell_type": "markdown",
   "id": "5eeebb51-353e-4ded-aea8-8a843cd37663",
   "metadata": {},
   "source": [
    "Answer-  If a data is right-skewed, then the median will be less than the mean.\n",
    "\n",
    "The reason for this is that in a right-skewed distribution, the tail on the right-hand side of the distribution is longer than the tail on the left-hand side. This means that there are a few very high values that pull the mean up towards them, but these high values have little effect on the position of the median, which is the middle value of the data."
   ]
  },
  {
   "cell_type": "markdown",
   "id": "ea5e7e8c-43ad-4269-9c5e-80b2666db720",
   "metadata": {},
   "source": [
    "  "
   ]
  },
  {
   "cell_type": "markdown",
   "id": "839219cd-bd19-4ae8-8a65-f5eb83c83778",
   "metadata": {},
   "source": [
    "   "
   ]
  },
  {
   "cell_type": "markdown",
   "id": "b8f0a2a7-0b61-4e86-a6e8-8327d36a5862",
   "metadata": {},
   "source": [
    "Question 10 - Explain the difference between covariance and correlation. How are these measures used in\n",
    "statistical analysis?"
   ]
  },
  {
   "cell_type": "markdown",
   "id": "051a9508-1144-48ce-98c5-8542402a4fbe",
   "metadata": {},
   "source": [
    "Answer- \n",
    "- Covariance and correlation are statistical measures used to describe the relationship between two variables.\n",
    "- Covariance measures the joint variability of two random variables, indicating the degree to which they vary together.\n",
    "- Correlation is a standardized version of covariance that measures the strength and direction of the linear relationship between two variables on a scale from -1 to 1.\n",
    "- Covariance is used in finance and image analysis while correlation is used in regression analysis, time series analysis, and machine learning.\n",
    "- Correlation is preferred over covariance because it is a standardized measure that is easier to interpret and compare across different datasets."
   ]
  },
  {
   "cell_type": "markdown",
   "id": "5a9fd2e0-98cc-4a9a-a39a-6e9deef03f1f",
   "metadata": {},
   "source": [
    " "
   ]
  },
  {
   "cell_type": "markdown",
   "id": "705892fb-15fc-46b9-9348-3b237d4649c5",
   "metadata": {},
   "source": [
    " "
   ]
  },
  {
   "cell_type": "markdown",
   "id": "6541ca9e-fe51-4255-8d7e-b4f17212b4e9",
   "metadata": {},
   "source": [
    "Question 11- What is the formula for calculating the sample mean? Provide an example calculation for a\n",
    "dataset."
   ]
  },
  {
   "cell_type": "markdown",
   "id": "e5d84e21-741b-4504-a93e-c6b7ac50df59",
   "metadata": {},
   "source": [
    "Answer- The formula for calculating the sample mean (x̄) is:\n",
    "\n",
    "x̄ = (sum of all observations) / (number of observations)\n",
    "\n",
    "To calculate the sample mean, you simply add up all the values in the dataset and divide by the number of observations. For example, consider the following dataset:\n",
    "\n",
    "5, 7, 9, 11, 13\n",
    "\n",
    "To calculate the sample mean of this dataset, you would first add up all the values:\n",
    "\n",
    "5 + 7 + 9 + 11 + 13 = 45\n",
    "\n",
    "Then, you would divide the sum by the number of observations (in this case, 5):\n",
    "\n",
    "45 / 5 = 9\n",
    "\n",
    "Therefore, the sample mean of this dataset is 9."
   ]
  },
  {
   "cell_type": "markdown",
   "id": "f59c204e-fac7-44b2-9354-92d2dca16552",
   "metadata": {},
   "source": [
    "  "
   ]
  },
  {
   "cell_type": "markdown",
   "id": "4eaa2a37-4ef7-433d-8af2-bf4d196ead01",
   "metadata": {},
   "source": [
    " "
   ]
  },
  {
   "cell_type": "markdown",
   "id": "d02b22d1-9c09-443c-87b1-42a031776de6",
   "metadata": {},
   "source": [
    "Question 12- For a normal distribution data what is the relationship between its measure of central tendency?"
   ]
  },
  {
   "cell_type": "markdown",
   "id": "85881305-0ca3-4863-8640-32944208f455",
   "metadata": {},
   "source": [
    "Answer- For a normal distribution data, the measure of central tendency, such as the mean, median, and mode, are equal to each other. This means that the distribution is symmetric around the center point, and the values are equally distributed on either side of the center point."
   ]
  },
  {
   "cell_type": "markdown",
   "id": "ca470e7e-4743-422a-b7e7-d83c3637807d",
   "metadata": {},
   "source": [
    "  "
   ]
  },
  {
   "cell_type": "markdown",
   "id": "aee0d4d9-fc2e-4f28-ae29-3aeea14f52f0",
   "metadata": {},
   "source": [
    " "
   ]
  },
  {
   "cell_type": "markdown",
   "id": "8f1145c0-a12d-4e38-9627-651e03cf5965",
   "metadata": {},
   "source": [
    "Question 13- How is covariance different from correlation?"
   ]
  },
  {
   "cell_type": "markdown",
   "id": "c698592b-5a1b-457c-8dbd-d14fc97149d4",
   "metadata": {},
   "source": [
    "Answer- Covariance and correlation are both measures used to describe the relationship between two variables, but they differ in some important ways:\n",
    "\n",
    "- Units of measurement: Covariance is measured in the units of the variables being studied, while correlation is a unitless measure.\n",
    "\n",
    "- Scale: Covariance can take on any value between negative infinity and positive infinity, while correlation is always between -1 and +1.\n",
    "\n",
    "- Interpretation: Covariance is difficult to interpret because its magnitude depends on the units of measurement. In contrast, correlation is easier to interpret since it is a standardized measure that is not affected by the units of measurement.\n",
    "\n",
    "- Strength of relationship: Covariance only tells us whether two variables have a positive or negative relationship, while correlation tells us both the direction and the strength of the relationship.\n",
    "\n",
    "- Usefulness: Covariance is used primarily to identify the direction of the relationship between two variables, while correlation is used to identify both the strength and direction of the relationship between two variables.\n",
    "\n",
    "In summary, covariance and correlation are both measures used to describe the relationship between two variables, but covariance is affected by the units of measurement and only indicates the direction of the relationship, while correlation is a standardized measure that indicates both the strength and direction of the relationship between two variables."
   ]
  },
  {
   "cell_type": "markdown",
   "id": "48186af3-5565-4175-9517-cfcfe1c97d96",
   "metadata": {},
   "source": [
    " "
   ]
  },
  {
   "cell_type": "markdown",
   "id": "78ac9a7b-ae3e-488b-a4a2-d170d276468d",
   "metadata": {},
   "source": [
    " "
   ]
  },
  {
   "cell_type": "markdown",
   "id": "a806c617-9283-4b9e-ab70-8e2e136188a0",
   "metadata": {},
   "source": [
    "Question 14-How do outliers affect measures of central tendency and dispersion? Provide an example."
   ]
  },
  {
   "cell_type": "markdown",
   "id": "3cf668d1-fb7c-44f6-b7b6-b1bceee7dfc5",
   "metadata": {},
   "source": [
    "Answer- Outliers are extreme values that lie far away from the other values in a dataset. Outliers can have a significant impact on measures of central tendency and dispersion, such as the mean, median, mode, variance, and standard deviation.\n",
    "\n",
    "For measures of central tendency, outliers can skew the data and affect the location of the center point of the distribution. This is because measures of central tendency are sensitive to extreme values, such as outliers. The mean is particularly sensitive to outliers because it takes into account every value in the dataset. The median and mode are less sensitive to outliers because they only consider the middle or most frequent values in the dataset, respectively.\n",
    "\n",
    "For measures of dispersion, outliers can affect the spread or variability of the data. Outliers can increase the variance and standard deviation of the data, which means that the data is more spread out than it would be without the outliers.\n",
    "\n",
    "For example, consider the following dataset:\n",
    "\n",
    "2, 3, 4, 5, 6, 7, 8, 9, 10, 100\n",
    "\n",
    "In this dataset, the value 100 is an outlier. If we calculate the mean, median, and standard deviation of this dataset with the outlier included, we get:\n",
    "\n",
    "Mean = (2+3+4+5+6+7+8+9+10+100) / 10 = 15.4\n",
    "Median = 6.5\n",
    "Standard Deviation = 32.9\n",
    "\n",
    "If we remove the outlier, we get:\n",
    "\n",
    "Mean = (2+3+4+5+6+7+8+9+10) / 9 = 5.89\n",
    "Median = 6\n",
    "Standard Deviation = 2.57\n",
    "\n",
    "As you can see, the outlier had a significant impact on the mean and standard deviation of the dataset, while the median was less affected."
   ]
  },
  {
   "cell_type": "code",
   "execution_count": null,
   "id": "7b3e9e0f-3284-48f8-a10f-5b3835a3686b",
   "metadata": {},
   "outputs": [],
   "source": []
  }
 ],
 "metadata": {
  "kernelspec": {
   "display_name": "Python 3 (ipykernel)",
   "language": "python",
   "name": "python3"
  },
  "language_info": {
   "codemirror_mode": {
    "name": "ipython",
    "version": 3
   },
   "file_extension": ".py",
   "mimetype": "text/x-python",
   "name": "python",
   "nbconvert_exporter": "python",
   "pygments_lexer": "ipython3",
   "version": "3.10.8"
  }
 },
 "nbformat": 4,
 "nbformat_minor": 5
}
